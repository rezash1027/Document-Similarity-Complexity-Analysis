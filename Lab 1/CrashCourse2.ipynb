{
 "cells": [
  {
   "cell_type": "markdown",
   "metadata": {},
   "source": [
    "# A Crash Course in Python (Part 2)\n",
    "In the second part of this crash course in Python, we will be focussing on more complex data structures such as tuples, lists and dictionaries.  \n",
    "\n",
    "## Tuples\n",
    "\n",
    "This allow us to store a fixed number of values as a single data object.  2-tuples (tuples with 2 values) are often referred to as pairs and 3-tuples (tuples with 3 values) are often referred to as triples.  Possibly the most obvious example of data which might be stored in tuple form is co-ordinates.\n",
    "\n",
    "A tuple of values can be defined using ().  Note that tuples do not need all of the values to be of the same type\n"
   ]
  },
  {
   "cell_type": "code",
   "execution_count": null,
   "metadata": {},
   "outputs": [],
   "source": [
    "my_position=(4,3,-2)\n",
    "print(type(my_position))\n",
    "my_student=(\"Daniel\",10)\n",
    "print(type(my_student))"
   ]
  },
  {
   "cell_type": "markdown",
   "metadata": {},
   "source": [
    "Individual elements of the tuple can be accessed through their indices using [] notation.  "
   ]
  },
  {
   "cell_type": "code",
   "execution_count": null,
   "metadata": {},
   "outputs": [],
   "source": [
    "print(my_position[0])\n",
    "print(my_position[1])\n",
    "print(my_position[2])"
   ]
  },
  {
   "cell_type": "markdown",
   "metadata": {},
   "source": [
    "### Exercise 1:\n",
    "Complete the following function to compute the distance of a point from the Origin."
   ]
  },
  {
   "cell_type": "code",
   "execution_count": null,
   "metadata": {
    "collapsed": true
   },
   "outputs": [],
   "source": [
    "def find_distance(position):\n",
    "    \"\"\"\n",
    "    function to find the distance from the Origin of a point \n",
    "    my_position: 3 tuple (x,y,z)\n",
    "    returns: float\n",
    "    \"\"\"\n",
    "   \n",
    "    \n",
    "    return distance\n",
    "    \n",
    "    "
   ]
  },
  {
   "cell_type": "code",
   "execution_count": null,
   "metadata": {},
   "outputs": [],
   "source": [
    "find_distance(my_position)"
   ]
  },
  {
   "cell_type": "markdown",
   "metadata": {},
   "source": [
    "### Exercise 1b\n",
    "Write a function which takes two triples (p1 and p2) and calculates their vector difference p1-p2\n",
    "\n",
    "Remember, if p1 = (x1,y1,z1) and p2 = (x2,y2,z2) then p1-p2 = (x1-x2,y1-y2,z1-z2)"
   ]
  },
  {
   "cell_type": "code",
   "execution_count": null,
   "metadata": {
    "collapsed": true
   },
   "outputs": [],
   "source": []
  },
  {
   "cell_type": "markdown",
   "metadata": {},
   "source": [
    "### Exercise 1c\n",
    "Write a function which takes two triples (p1 and p2) and calculates the distance between the points in Cartesian space.\n",
    "\n",
    "NB// Good programming tip: don't copy and paste and then combine the code from exercises 1a and 1b.  Write a **new function which calls each of your functions from 1a and 1b.**"
   ]
  },
  {
   "cell_type": "code",
   "execution_count": null,
   "metadata": {
    "collapsed": true
   },
   "outputs": [],
   "source": []
  },
  {
   "cell_type": "markdown",
   "metadata": {},
   "source": [
    "## Lists\n",
    "Often we want to store lists of values.  These are similar to tuples but they do not have a fixed length.  In particular, it is common for them to grow over time.\n",
    "\n",
    "A list of numbers can be initialised using [].  The length of a list can be found using the *len()* function.  Note the use of the *str()* function to convert the integer result into a string which can be concatenated to the end of the statement."
   ]
  },
  {
   "cell_type": "code",
   "execution_count": null,
   "metadata": {},
   "outputs": [],
   "source": [
    "list_a=[4,6,\"Adam\",\"hello\",10]\n",
    "print(\"The length of the list is \" +str(len(list_a)))\n"
   ]
  },
  {
   "cell_type": "markdown",
   "metadata": {},
   "source": [
    "It is also often useful to initialise a variable as the empty list (which items will be added to later). "
   ]
  },
  {
   "cell_type": "code",
   "execution_count": null,
   "metadata": {},
   "outputs": [],
   "source": [
    "another_list=[]\n",
    "print(\"The length of the list is \"+str(len(another_list)))"
   ]
  },
  {
   "cell_type": "markdown",
   "metadata": {},
   "source": [
    "Individual elements can be accessed via their indices in the same way as tuples.  "
   ]
  },
  {
   "cell_type": "code",
   "execution_count": null,
   "metadata": {},
   "outputs": [],
   "source": [
    "print(\"The first element is \"+str(list_a[0]))"
   ]
  },
  {
   "cell_type": "markdown",
   "metadata": {},
   "source": [
    "Note what happens if you try to access an element which is not there (i.e., *list index is out of range*)"
   ]
  },
  {
   "cell_type": "code",
   "execution_count": null,
   "metadata": {},
   "outputs": [],
   "source": [
    "print(\"The fifth element is \"+str(list_a[5]))"
   ]
  },
  {
   "cell_type": "markdown",
   "metadata": {},
   "source": [
    "A useful feature (sometimes) is that you can also index backwards from the end of a list"
   ]
  },
  {
   "cell_type": "code",
   "execution_count": null,
   "metadata": {},
   "outputs": [],
   "source": [
    "print(\"The last element is \"+str(list_a[-1]))"
   ]
  },
  {
   "cell_type": "markdown",
   "metadata": {},
   "source": [
    "Sublists can also be *spliced* from lists using the colon notation.  Note that the element at the first index is included and then all elements up to but not including the second index"
   ]
  },
  {
   "cell_type": "code",
   "execution_count": null,
   "metadata": {},
   "outputs": [],
   "source": [
    "print(list_a[1:4])"
   ]
  },
  {
   "cell_type": "code",
   "execution_count": null,
   "metadata": {},
   "outputs": [],
   "source": [
    "print(list_a[1:])"
   ]
  },
  {
   "cell_type": "code",
   "execution_count": null,
   "metadata": {},
   "outputs": [],
   "source": [
    "print(list_a[:4])"
   ]
  },
  {
   "cell_type": "markdown",
   "metadata": {},
   "source": [
    "Lists can also grow over time by appending elements to the end.  What happens if you run the following cell multiple times?\n"
   ]
  },
  {
   "cell_type": "code",
   "execution_count": null,
   "metadata": {},
   "outputs": [],
   "source": [
    "print(\"Length of list_a is \"+str(len(list_a)))\n",
    "list_a.append(3.14)\n",
    "print(\"Length of list_a is now \"+str(len(list_a)))\n"
   ]
  },
  {
   "cell_type": "markdown",
   "metadata": {},
   "source": [
    "We also sometimes want to concatenate two (or more) lists.  We can do this using +"
   ]
  },
  {
   "cell_type": "code",
   "execution_count": null,
   "metadata": {},
   "outputs": [],
   "source": [
    "list_b=[3,5,\"data\",\"science\"]\n",
    "list_c=list_a+list_b\n",
    "print(list_c)"
   ]
  },
  {
   "cell_type": "markdown",
   "metadata": {},
   "source": [
    "### List iteration\n",
    "Frequently, we want to take a list and do something with every element in the list in turn.\n",
    "\n",
    "Imagine we have a list of names and the function say_hello from the first part of the course\n"
   ]
  },
  {
   "cell_type": "code",
   "execution_count": null,
   "metadata": {
    "collapsed": true
   },
   "outputs": [],
   "source": [
    "my_names=[\"Adam\",\"Daniel\",\"Bob\",\"Esmerelda\",\"Montgomery\"]\n",
    "def say_hello(mystring):\n",
    "    if len(mystring)< 5:\n",
    "        result=\"Hi \"+mystring\n",
    "    elif len(mystring)< 10:\n",
    "        result=\"Hello \"+mystring\n",
    "    else:\n",
    "        result=\"Good day \"+mystring\n",
    "    return result"
   ]
  },
  {
   "cell_type": "markdown",
   "metadata": {},
   "source": [
    "How do we run this function for every element in the list?  We use the following construction to iterate over a list."
   ]
  },
  {
   "cell_type": "code",
   "execution_count": null,
   "metadata": {},
   "outputs": [],
   "source": [
    "for thing in my_names:  \n",
    "    print(say_hello(thing))"
   ]
  },
  {
   "cell_type": "markdown",
   "metadata": {},
   "source": [
    "Note that it does not matter what variable name we use to refer to each element of the list in turn.  After the list iteration has finished, this variable will store the last element of the list"
   ]
  },
  {
   "cell_type": "code",
   "execution_count": null,
   "metadata": {},
   "outputs": [],
   "source": [
    "thing"
   ]
  },
  {
   "cell_type": "markdown",
   "metadata": {},
   "source": [
    "A very useful function on lists is the sorted() function.  This returns a list which is the sorted version of the input list (alphabetical sorting for Strings, numeric for integers and floats) "
   ]
  },
  {
   "cell_type": "code",
   "execution_count": null,
   "metadata": {},
   "outputs": [],
   "source": [
    "print(sorted(my_names))"
   ]
  },
  {
   "cell_type": "markdown",
   "metadata": {},
   "source": [
    "Note that this does not affect the original list."
   ]
  },
  {
   "cell_type": "code",
   "execution_count": null,
   "metadata": {},
   "outputs": [],
   "source": [
    "print(my_names)"
   ]
  },
  {
   "cell_type": "markdown",
   "metadata": {},
   "source": [
    "We could obviously however reassign my_names to be the sorted version.  We can also use an optional second argument to get the reverse order."
   ]
  },
  {
   "cell_type": "code",
   "execution_count": null,
   "metadata": {},
   "outputs": [],
   "source": [
    "my_names=sorted(my_names,reverse=True)\n",
    "print(my_names)"
   ]
  },
  {
   "cell_type": "markdown",
   "metadata": {},
   "source": [
    "### Exercise 2:\n",
    "Write a function which takes a list and returns the sum of the integers in that list.\n"
   ]
  },
  {
   "cell_type": "code",
   "execution_count": null,
   "metadata": {
    "collapsed": true
   },
   "outputs": [],
   "source": []
  },
  {
   "cell_type": "markdown",
   "metadata": {},
   "source": [
    "## Dictionaries\n",
    "\n",
    "Dictionaries are a very useful structure for storing key-value pairs, where you want to be able to look up values for a given key.  They are initialised using {}.  Inside the {} is a list of key-value pairs where keys and values are separated by : and pairs are separated by ,\n"
   ]
  },
  {
   "cell_type": "code",
   "execution_count": null,
   "metadata": {
    "collapsed": true
   },
   "outputs": [],
   "source": [
    "my_dict={\"daniel\":89,\"evelyn\":98,\"bob\":50}"
   ]
  },
  {
   "cell_type": "markdown",
   "metadata": {},
   "source": [
    "In the example above, keys were of *type* __str__ and values were of *type* __int__ but they can be of any type (they can also be of mixed types but that is quite unusual)\n",
    "\n",
    "It is also quite common to start with an empty dictionary where you will store things as you go along"
   ]
  },
  {
   "cell_type": "code",
   "execution_count": null,
   "metadata": {
    "collapsed": true
   },
   "outputs": [],
   "source": [
    "another_dict={}"
   ]
  },
  {
   "cell_type": "markdown",
   "metadata": {},
   "source": [
    "We can look things up in a dictionary using []"
   ]
  },
  {
   "cell_type": "code",
   "execution_count": null,
   "metadata": {},
   "outputs": [],
   "source": [
    "name=\"daniel\"\n",
    "print(\"The score for \"+name+\" is \"+str(my_dict[name]))"
   ]
  },
  {
   "cell_type": "markdown",
   "metadata": {},
   "source": [
    "We can add items to dictionaries and replace values in the same way."
   ]
  },
  {
   "cell_type": "code",
   "execution_count": null,
   "metadata": {
    "collapsed": true
   },
   "outputs": [],
   "source": [
    "my_dict[\"george\"]=78\n",
    "my_dict[\"daniel\"]=83\n"
   ]
  },
  {
   "cell_type": "code",
   "execution_count": null,
   "metadata": {},
   "outputs": [],
   "source": [
    "name=\"daniel\"\n",
    "print(\"The score for \"+name+\" is \"+str(my_dict[name]))"
   ]
  },
  {
   "cell_type": "markdown",
   "metadata": {},
   "source": [
    "If you try to lookup a key that does not exist using [] then you will get an error:"
   ]
  },
  {
   "cell_type": "code",
   "execution_count": null,
   "metadata": {},
   "outputs": [],
   "source": [
    "name=\"beatrice\"\n",
    "print(\"The score for \"+name+\" is \"+str(my_dict[name]))"
   ]
  },
  {
   "cell_type": "markdown",
   "metadata": {},
   "source": [
    "In this case it is better to use the dictionary's .get() method.  "
   ]
  },
  {
   "cell_type": "code",
   "execution_count": null,
   "metadata": {},
   "outputs": [],
   "source": [
    "name=\"beatrice\"\n",
    "print(\"The score for \"+name+\" is \"+str(my_dict.get(name,0)))"
   ]
  },
  {
   "cell_type": "markdown",
   "metadata": {},
   "source": [
    ".get() is a method of the dictionary class.  It takes the particular dictionary which is given before the . and looks up the value of the first argument.  However, the second argument (0 in this case) is a default value which will be used if the key is not present in the dictionary.\n"
   ]
  },
  {
   "cell_type": "markdown",
   "metadata": {},
   "source": [
    "Often we want to iterate over all of the items in a dictionary.  We might want to do something with the keys or values which match a certain condition.  \n",
    "\n",
    ".keys() returns the keys of the dictionary as a list\n",
    "\n",
    ".values() returns the values of the dictionary as a list\n",
    "\n",
    ".items() returns the key,value pairs as a list of pairs\n",
    "\n",
    "Note that the order of these lists is **not** _necessarily_ the same as the order the items were added to the dictionary.  "
   ]
  },
  {
   "cell_type": "code",
   "execution_count": null,
   "metadata": {},
   "outputs": [],
   "source": [
    "print(my_dict.keys())"
   ]
  },
  {
   "cell_type": "code",
   "execution_count": null,
   "metadata": {},
   "outputs": [],
   "source": [
    "print(my_dict.values())"
   ]
  },
  {
   "cell_type": "code",
   "execution_count": null,
   "metadata": {},
   "outputs": [],
   "source": [
    "print(my_dict.items())"
   ]
  },
  {
   "cell_type": "markdown",
   "metadata": {},
   "source": [
    "So now we can straightforwardly iterate over the dictionary"
   ]
  },
  {
   "cell_type": "code",
   "execution_count": null,
   "metadata": {},
   "outputs": [],
   "source": [
    "def update_scores(dict_of_scores):\n",
    "    \"\"\"\n",
    "    update_scores increases the scores in a dictionary based on the length of the key\n",
    "    dict_of_scores: a dictionary of name-score pairs\n",
    "    returns: a dictionary of name_score pairs    \n",
    "    \"\"\"\n",
    "    for key in dict_of_scores.keys():  #take each key in the dict in turn\n",
    "        if len(key)>5:  #check whether the length is greater than 5\n",
    "            dict_of_scores[key]+=5  #if so the current value should be increased by 5\n",
    "            \n",
    "    return dict_of_scores\n",
    "\n",
    "print(update_scores(my_dict))"
   ]
  },
  {
   "cell_type": "markdown",
   "metadata": {},
   "source": [
    "What happens if you run this again?  Do you get the same values or do they all increase by 5 again?\n",
    "\n",
    "The dictionary is actually modified in place which means you don't actually need to return it, you would get the same effect with the following code.  Note, however, that now you do not print the result of update_scores (because it doesn't return anything).  You just print my_dict which has been modified."
   ]
  },
  {
   "cell_type": "code",
   "execution_count": null,
   "metadata": {},
   "outputs": [],
   "source": [
    "def update_scores2(dict_of_scores):\n",
    "    \"\"\"\n",
    "    update_scores increases the scores in a dictionary based on the length of the key\n",
    "    dict_of_scores: a dictionary of name-score pairs\n",
    "    \"\"\"\n",
    "    for key in dict_of_scores.keys():  #take each key in the dict in turn\n",
    "        if len(key)>5:  #check whether the length is greater than 5\n",
    "            dict_of_scores[key]+=5  #if so the current value should be increased by 5\n",
    "            \n",
    "\n",
    "update_scores2(my_dict)\n",
    "print(my_dict)"
   ]
  },
  {
   "cell_type": "markdown",
   "metadata": {},
   "source": [
    "If you don't want to modify the argument to the function in place, you need to explicitly make a copy of it at the start of the function and then return that.  Use dict() to copy a dictionary and list() to copy a list.\n",
    "\n",
    "Running the cell below repeatedly will only result in one update to the dictionary (because nothing is done with the return value other than printing it out)."
   ]
  },
  {
   "cell_type": "code",
   "execution_count": null,
   "metadata": {},
   "outputs": [],
   "source": [
    "def update_scores3(dict_of_scores):\n",
    "    \"\"\"\n",
    "    update_scores increases the scores in a dictionary based on the length of the key\n",
    "    dict_of_scores: a dictionary of name-score pairs\n",
    "    returns: a dictionary of name_score pairs    \n",
    "    \"\"\"\n",
    "    new_dict=dict(dict_of_scores)\n",
    "    \n",
    "    for key in new_dict.keys():  #take each key in the dict in turn\n",
    "        if len(key)>5:  #check whether the length is greater than 5\n",
    "            new_dict[key]+=5  #if so the current value should be increased by 5\n",
    "            \n",
    "    return new_dict\n",
    "\n",
    "print(update_scores3(my_dict))"
   ]
  },
  {
   "cell_type": "markdown",
   "metadata": {},
   "source": [
    "### Exercise 3\n",
    "Write a function which takes a dictionary such as my_dict and finds the (mean) average score.  There are library functions which will help you do this efficiently, but for now, just add up all of the values and divide by the length of the list of values."
   ]
  },
  {
   "cell_type": "code",
   "execution_count": null,
   "metadata": {
    "collapsed": true
   },
   "outputs": [],
   "source": []
  },
  {
   "cell_type": "markdown",
   "metadata": {},
   "source": [
    "### Exercise 4\n",
    "Write a function which takes a dictionary such as my_dict and prints out a message for each person \"X is above/below/equal to average\" which depends on their score."
   ]
  },
  {
   "cell_type": "code",
   "execution_count": null,
   "metadata": {
    "collapsed": true
   },
   "outputs": [],
   "source": []
  },
  {
   "cell_type": "markdown",
   "metadata": {},
   "source": [
    "## Files\n"
   ]
  },
  {
   "cell_type": "markdown",
   "metadata": {},
   "source": [
    "We also often want to read and write things from file.  Depending on the filetype, there are lots of ways of doing this but for plain text, the most simple way is probably to read (and write) a line at time.   Here we calcualte the length of each line and store it in a list.\n"
   ]
  },
  {
   "cell_type": "code",
   "execution_count": null,
   "metadata": {},
   "outputs": [],
   "source": [
    "inputfile=\"sometext.txt\"\n",
    "\n",
    "\n",
    "lengths=[]\n",
    "with open(inputfile) as input:\n",
    "    for line in input:\n",
    "        print(line)\n",
    "        lengths.append(len(line))\n",
    "        \n",
    "print(lengths)\n"
   ]
  },
  {
   "cell_type": "markdown",
   "metadata": {},
   "source": [
    "In a similar way we can write the scores to a file.  Note that to use the write method, we need a String and we need to concatenate \"\\n\" so that we get a newline for each score."
   ]
  },
  {
   "cell_type": "code",
   "execution_count": null,
   "metadata": {
    "collapsed": true
   },
   "outputs": [],
   "source": [
    "outputfile=\"results.txt\"\n",
    "with open(outputfile,\"w\") as output: # opens outputfile in writing mode\n",
    "    for item in lengths:\n",
    "        output.write(str(item)+\"\\n\")  \n",
    "        "
   ]
  },
  {
   "cell_type": "markdown",
   "metadata": {},
   "source": [
    "### Exercise 5\n",
    "There are lots of interesting built in functions for Strings.  Set somestring=\"My name is X\\n\" and then do the following:\n",
    "\n",
    "1. somestring.split(\" \")\n",
    "2. somestring.lower()\n",
    "3. somestring.upper()\n",
    "4. somestring.strip()\n",
    "5. somestring.startswith(\"My\")\n",
    "6. somestring.endswith(\"Adam\")\n",
    "\n",
    "\n",
    "Its also possible to iterate over a String as a list of characters.  Can you write a function which takes a String and returns a dictionary which consists of the letters it contains and their frequencies.  For example, count_letters(\"evelyn\") should return something like {'e':2,'v':1,'l':1,'y':1,'n':1}"
   ]
  },
  {
   "cell_type": "code",
   "execution_count": null,
   "metadata": {
    "collapsed": true
   },
   "outputs": [],
   "source": []
  },
  {
   "cell_type": "markdown",
   "metadata": {},
   "source": [
    "That's all for this crash course in Python - however, its just the tip of the iceberg when it comes to what you can do.  To improve your programming skills, keep practising!  Try things out and see what happens.  If it all goes horribly wrong, you can always restart the kernel :)  \n",
    "\n",
    "There are also loads of good resources around - for example,\n",
    "1. the official python tutorial at https://docs.python.org/3/tutorial/\n",
    "2. *Data Science from Scratch* (Joel Grus, 2015), Chapter 2 comprises a crash course in Python (although it does assume some programming experience ... which you now have)"
   ]
  },
  {
   "cell_type": "code",
   "execution_count": null,
   "metadata": {},
   "outputs": [],
   "source": []
  }
 ],
 "metadata": {
  "kernelspec": {
   "display_name": "Python 3",
   "language": "python",
   "name": "python3"
  },
  "language_info": {
   "codemirror_mode": {
    "name": "ipython",
    "version": 3
   },
   "file_extension": ".py",
   "mimetype": "text/x-python",
   "name": "python",
   "nbconvert_exporter": "python",
   "pygments_lexer": "ipython3",
   "version": "3.7.4"
  }
 },
 "nbformat": 4,
 "nbformat_minor": 2
}
