{
 "cells": [
  {
   "cell_type": "markdown",
   "metadata": {},
   "source": [
    "# A Crash Course in Python for Data Scientists\n",
    "\n",
    "## Why Python?\n",
    "\n",
    "Python is a very high-level, general-purpose programming language which has been designed to optimise development speed.  According to the website https://www.python.org/ it \"lets you work quickly and integrate systems effectively.\"\n",
    "\n",
    "Python has a number of features, such as easy to read code, which make it an excellent choice for novice programmers.  It is also easy for experienced programmers to learn Python since it is a very flexible language, supporting, for example, both the object-oriented paradigm familiar to Java programmers and the functional programming paradigm familiar to Lisp and Haskell programmers.  There are also a vast number of libraries (or toolboxes) which  make it easier to carry out complex tasks without constantly reinventing the wheel.  Popular Python libraries for Data Scientists include NumPy, SciPy, matplotlib, Pandas and Scikit-Learn.  These libraries include functionality for statistical calculations, linear algebra, graph plotting, machine learning and much much more.\n",
    "\n",
    "## Using Python\n",
    "\n",
    "For this module you may use either Jupyter Notebook (for computing on your machine) or Google Colaboratory (for computing in the cloud, https://colab.research.google.com/notebooks/intro.ipynb).\n",
    "\n",
    "The *ipython notebook* (ipynb) files (programs) that will be used can run on both of these interfaces.\n",
    "\n",
    "Jupyter Notebook is part of the Anaconda toolkit.  To download and install Anaconda, go here: https://www.anaconda.com/products/individual\n",
    "\n",
    "Python is an interpreted language.  This means that instructions are executed directly on a processor or *Kernel*, without the set of instructions previously being compiled into machine-language instructions.\n",
    "\n",
    "We interact with the Kernel through a programming environment.  There are many good programming environments - however, here we will use Jupyter Notebooks / Google Colaboratory, which make it easy to collect code, output and discussion into a single file.  \n",
    "\n",
    "## ipython notebooks - Basics\n",
    "\n",
    "Blocks of code or text in a ipython notebook are referred to as *cells*.  Use the *Insert* menu to insert new cells and the *Cell* menu to run cells and change their type.  The current cell can also be run by pressing \"Shift+Enter\".\n",
    "\n",
    "This is a *text* cell.  Text can be formatted using Markdown.  When a text cell is run, the formatting is applied. Code cells contain instructions for the Kernel.  When a code cell is run the output or result of running the set of instructions is displayed below.\n",
    "\n",
    "Try running the code in the cell below. Update it to carry out a different (simple) mathematical calculation and make sure you can update the output."
   ]
  },
  {
   "cell_type": "code",
   "execution_count": null,
   "metadata": {},
   "outputs": [],
   "source": [
    "53 + 87"
   ]
  },
  {
   "cell_type": "markdown",
   "metadata": {},
   "source": [
    "## Variables\n",
    "\n",
    "Often we want to store a value or the result of a calculation for later use.  We do this using *variables*.\n",
    "\n",
    "We can assign values to variables using the assignment operator =\n",
    "\n",
    "Note that separate instructions (here two assignments) are placed on subsequent lines.  The Kernel will execute each instruction in turn when the cell is run."
   ]
  },
  {
   "cell_type": "code",
   "execution_count": null,
   "metadata": {
    "collapsed": true
   },
   "outputs": [],
   "source": [
    "a = 53\n",
    "b = 12\n"
   ]
  },
  {
   "cell_type": "markdown",
   "metadata": {},
   "source": [
    "We can then refer to these variables in calculations and other statements in subsequent cells.\n",
    "\n",
    "'#' in a code cell indicates that the rest of the line is a *comment* for the programmer and should be ignored by the kernel when running the code\n",
    "\n",
    "*print()* is a built-in function (see below) which prints out its input in the standard output (i.e., to screen) "
   ]
  },
  {
   "cell_type": "code",
   "execution_count": null,
   "metadata": {},
   "outputs": [],
   "source": [
    "print(a)  #print out the value of a\n",
    "c=a+b  #calculate a+b and store it in c\n"
   ]
  },
  {
   "cell_type": "code",
   "execution_count": null,
   "metadata": {},
   "outputs": [],
   "source": [
    "print(c)"
   ]
  },
  {
   "cell_type": "markdown",
   "metadata": {},
   "source": [
    "#### NB 1: Order of Running Cells in a Notebook\n",
    "\n",
    "The number beside the code cell indicates its most recent place in the order that the cells in the notebook have been run.  It is possible to run cells in a different order and end up with unexpected results.\n",
    "\n",
    "Try restarting the Kernel (on the *Kernel* menu, select *Restart*).  Then run the cell above.  What happens?\n",
    "\n",
    "#### NB 2: Naming Variables\n",
    "\n",
    "In theory you can name your variables whatever you like.  However here a few points to remember:\n",
    "1. short variable names are easier to type\n",
    "2. longer, descriptive names are easier to remember (possibly)\n",
    "3. **avoid** using words which might be a *keyword* in Python.  Try running the code below.  Why does it go wrong?"
   ]
  },
  {
   "cell_type": "code",
   "execution_count": null,
   "metadata": {},
   "outputs": [],
   "source": [
    "print=5\n",
    "print(print)"
   ]
  },
  {
   "cell_type": "markdown",
   "metadata": {},
   "source": [
    "You have overwritten Python's definition of the function *print()*.  It now no longer knows how to print.  How do we fix this?  You could try deleting the cell above or changing it so that the variable is no longer called *print*.  But the cell below still won't work -- because the offending *print* variable is still in memory.\n"
   ]
  },
  {
   "cell_type": "code",
   "execution_count": null,
   "metadata": {},
   "outputs": [],
   "source": [
    "print(10)"
   ]
  },
  {
   "cell_type": "markdown",
   "metadata": {},
   "source": [
    "There are two possible fixes.  Either delete the offending cell and restart the kernel.  Or use the *del* command to erase your definition of *print* (which will reinstall the Python default definition)"
   ]
  },
  {
   "cell_type": "code",
   "execution_count": null,
   "metadata": {
    "collapsed": true
   },
   "outputs": [],
   "source": [
    "del print"
   ]
  },
  {
   "cell_type": "markdown",
   "metadata": {},
   "source": [
    "## Basic Types\n",
    "\n",
    "Python has a number of basic data types.  Run the cells below to find out what they are called.\n",
    "\n",
    "*type()* is another built-in function which tells you the (current) type of a value or variable."
   ]
  },
  {
   "cell_type": "code",
   "execution_count": null,
   "metadata": {},
   "outputs": [],
   "source": [
    "type(123)"
   ]
  },
  {
   "cell_type": "code",
   "execution_count": null,
   "metadata": {},
   "outputs": [],
   "source": [
    "type(0.5)"
   ]
  },
  {
   "cell_type": "code",
   "execution_count": null,
   "metadata": {},
   "outputs": [],
   "source": [
    "type(\"hello\")"
   ]
  },
  {
   "cell_type": "code",
   "execution_count": null,
   "metadata": {},
   "outputs": [],
   "source": [
    "type('j')"
   ]
  },
  {
   "cell_type": "code",
   "execution_count": null,
   "metadata": {},
   "outputs": [],
   "source": [
    "type('123')"
   ]
  },
  {
   "cell_type": "code",
   "execution_count": null,
   "metadata": {},
   "outputs": [],
   "source": [
    "type(True)"
   ]
  },
  {
   "cell_type": "markdown",
   "metadata": {},
   "source": [
    "Note that Strings are delimited by quotes (either single quotes or double quotes).  '123' as a string is very different to 123 as an integer ... as it determines what kind of things we can do with it as we will see shortly\n",
    "\n",
    "### Dynamic Typing of Variables\n",
    "In many programming languages, it is necessary to declare variables to be of a certain type and then that variable can only hold values of that type.  Python uses dynamic typing which means that the types of variables can change (and its type is simply the type of the value it is holding).  This can make learning Python easier (but also sometimes more confusing).  Try to avoid over-reusing variable names.  Be clear about what type they are (even if Python doesn't force you to be). "
   ]
  },
  {
   "cell_type": "code",
   "execution_count": null,
   "metadata": {},
   "outputs": [],
   "source": [
    "my_number=556\n",
    "type(my_number)"
   ]
  },
  {
   "cell_type": "code",
   "execution_count": null,
   "metadata": {},
   "outputs": [],
   "source": [
    "my_number=\"Actually I'm a sentence now.\"\n",
    "type(my_number)"
   ]
  },
  {
   "cell_type": "markdown",
   "metadata": {},
   "source": [
    "## Basic Operators\n",
    "\n",
    "### Arithmetic\n",
    "Basic operators +, -, \\*, / and () work as expected (hopefully!)"
   ]
  },
  {
   "cell_type": "code",
   "execution_count": null,
   "metadata": {},
   "outputs": [],
   "source": [
    "result = 5*10/(8-7+1)\n",
    "print(result)"
   ]
  },
  {
   "cell_type": "markdown",
   "metadata": {},
   "source": [
    "For integer division, use // and %\n"
   ]
  },
  {
   "cell_type": "code",
   "execution_count": null,
   "metadata": {},
   "outputs": [],
   "source": [
    "print(7//2)  #for quotient\n",
    "print(7%2)  #for remainder"
   ]
  },
  {
   "cell_type": "markdown",
   "metadata": {},
   "source": [
    "Exponentiation can be performed using \\*\\*"
   ]
  },
  {
   "cell_type": "code",
   "execution_count": null,
   "metadata": {},
   "outputs": [],
   "source": [
    "print(7**2)"
   ]
  },
  {
   "cell_type": "markdown",
   "metadata": {},
   "source": [
    "Often we want to do something to a variable and then store the result back in that variable for future re-use (like increase a counter by 1).  We can do this using the code below (try running it a few times)."
   ]
  },
  {
   "cell_type": "code",
   "execution_count": null,
   "metadata": {},
   "outputs": [],
   "source": [
    "result=result+1\n",
    "print(result)"
   ]
  },
  {
   "cell_type": "markdown",
   "metadata": {},
   "source": [
    "We can also use the += shorthand notation for this"
   ]
  },
  {
   "cell_type": "code",
   "execution_count": null,
   "metadata": {},
   "outputs": [],
   "source": [
    "result+=1\n",
    "print(result)"
   ]
  },
  {
   "cell_type": "markdown",
   "metadata": {},
   "source": [
    "### String operators\n",
    "\n",
    "If + is applied to two strings, it concatenates them.  Try the following cells.  Why does the second one produce an error?"
   ]
  },
  {
   "cell_type": "code",
   "execution_count": null,
   "metadata": {},
   "outputs": [],
   "source": [
    "myname=\"Adam\"\n",
    "print(\"My name is \"+myname)"
   ]
  },
  {
   "cell_type": "code",
   "execution_count": null,
   "metadata": {},
   "outputs": [],
   "source": [
    "myage=21\n",
    "print(\"My age is \"+myage)"
   ]
  },
  {
   "cell_type": "markdown",
   "metadata": {},
   "source": [
    "## Booleans and conditionals\n",
    "\n",
    "We can test the equality of ints, floats and strings using =="
   ]
  },
  {
   "cell_type": "code",
   "execution_count": null,
   "metadata": {},
   "outputs": [],
   "source": [
    "5+5==10"
   ]
  },
  {
   "cell_type": "code",
   "execution_count": null,
   "metadata": {},
   "outputs": [],
   "source": [
    "result=\"Adam\"\n",
    "result=='Adam'"
   ]
  },
  {
   "cell_type": "code",
   "execution_count": null,
   "metadata": {},
   "outputs": [],
   "source": [
    "5==5.0"
   ]
  },
  {
   "cell_type": "markdown",
   "metadata": {},
   "source": [
    "For integers and floats we can also use <, > >= and <="
   ]
  },
  {
   "cell_type": "code",
   "execution_count": null,
   "metadata": {},
   "outputs": [],
   "source": [
    "16<10"
   ]
  },
  {
   "cell_type": "code",
   "execution_count": null,
   "metadata": {},
   "outputs": [],
   "source": [
    "10<10"
   ]
  },
  {
   "cell_type": "code",
   "execution_count": null,
   "metadata": {},
   "outputs": [],
   "source": [
    "10<=10"
   ]
  },
  {
   "cell_type": "markdown",
   "metadata": {},
   "source": [
    "Often we want to test the value of a variable and make a decision as to what to do next depending on the result of that test.  We do this using an **if:** and **else:** as follows.  Note that the indentation is very important as it delimits the blocks of code which will be executed in each case.  Here each block only contains one instruction but there could be multiple instructions.  Make sure you run the code with different values assigned to *my_age*"
   ]
  },
  {
   "cell_type": "code",
   "execution_count": null,
   "metadata": {},
   "outputs": [],
   "source": [
    "my_age = 21\n",
    "if my_age < 18:\n",
    "    print(\"The film was wicked!\")\n",
    "else:\n",
    "    print(\"The film was great!\")\n",
    "    "
   ]
  },
  {
   "cell_type": "markdown",
   "metadata": {},
   "source": [
    "Conditionals can be nested within conditionals e.g.,\n"
   ]
  },
  {
   "cell_type": "code",
   "execution_count": null,
   "metadata": {},
   "outputs": [],
   "source": [
    "my_age = 5\n",
    "my_name = \"Adam\"\n",
    "if my_age < 18:\n",
    "    if my_name==\"Adam\":\n",
    "        print(\"Hello Adam.\")\n",
    "        print(\"I thought the film was wicked.\")\n",
    "    else:\n",
    "        print(\"Hello \"+my_name)\n",
    "        print(\"I thought the film was awesome.\")\n",
    "else:\n",
    "    print(\"Hello \"+my_name)\n",
    "    print(\"I thought the film was great.\")"
   ]
  },
  {
   "cell_type": "markdown",
   "metadata": {},
   "source": [
    "Sometimes **if:**, **elif:**, **else:** can be an efficient way of carrying out a number of tests"
   ]
  },
  {
   "cell_type": "code",
   "execution_count": null,
   "metadata": {},
   "outputs": [],
   "source": [
    "my_age=15\n",
    "if my_age<11:\n",
    "    print(\"Awesome!\")\n",
    "elif my_age<18:\n",
    "    print(\"Wicked!\")\n",
    "else:\n",
    "    print(\"Great!\")"
   ]
  },
  {
   "cell_type": "markdown",
   "metadata": {},
   "source": [
    "## Functions\n",
    "\n",
    "Functions are a fundamental part of writing good programs which means that code is clear.  Any set of instructions which might want to be reused for a different input (or set of inputs) should be written as a function.  In Maths, functions define mappings from inputs to outputs.  A function in Python takes an input, usually referred to as an argument (or number of inputs/arguments), and returns an output.  We have already seen two built-in functions *print()* and *type()*.  Another very useful built-in function is *len()* which, when given a string as input, returns the length of that string."
   ]
  },
  {
   "cell_type": "code",
   "execution_count": null,
   "metadata": {},
   "outputs": [],
   "source": [
    "print(len(\"My name is Adam\"))"
   ]
  },
  {
   "cell_type": "markdown",
   "metadata": {},
   "source": [
    "Note - Jupyter notebook / Colab will automatically print out the result of a function (provided it is the last call in the cell).  Therefore we can omit the call to print().  However, be careful if you do this as this doesn't work in other programming enviroments."
   ]
  },
  {
   "cell_type": "code",
   "execution_count": null,
   "metadata": {},
   "outputs": [],
   "source": [
    "len(\"My name is Adam\")"
   ]
  },
  {
   "cell_type": "markdown",
   "metadata": {},
   "source": [
    "Another useful built-in function which takes two arguments is isinstance() which can be used to test whether a variable or value is of a given type"
   ]
  },
  {
   "cell_type": "code",
   "execution_count": null,
   "metadata": {},
   "outputs": [],
   "source": [
    "isinstance(\"Adam\",str)"
   ]
  },
  {
   "cell_type": "code",
   "execution_count": null,
   "metadata": {},
   "outputs": [],
   "source": [
    "isinstance(\"Adam\",int)"
   ]
  },
  {
   "cell_type": "markdown",
   "metadata": {},
   "source": [
    "We often want to define our own functions.  Here is how to define the say_hello() function which takes a single argument and returns a greeting which depends on the length of the input string"
   ]
  },
  {
   "cell_type": "code",
   "execution_count": null,
   "metadata": {
    "collapsed": true
   },
   "outputs": [],
   "source": [
    "def say_hello(mystring):\n",
    "    if len(mystring)< 5:\n",
    "        result=\"Hi \"+mystring\n",
    "    elif len(mystring)< 10:\n",
    "        result=\"Hello \"+mystring\n",
    "    else:\n",
    "        result=\"Good day \"+mystring\n",
    "    return result"
   ]
  },
  {
   "cell_type": "markdown",
   "metadata": {},
   "source": [
    "Once we have run this cell, the say_hello() function is available to use in any other cell."
   ]
  },
  {
   "cell_type": "code",
   "execution_count": null,
   "metadata": {},
   "outputs": [],
   "source": [
    "say_hello(\"Adam\")"
   ]
  },
  {
   "cell_type": "code",
   "execution_count": null,
   "metadata": {},
   "outputs": [],
   "source": [
    "say_hello(\"I've got a really long name\")"
   ]
  },
  {
   "cell_type": "markdown",
   "metadata": {},
   "source": [
    "Functions can also be defined to take multiple arguments.  In the example below we can now set the value of my_threshold. \n"
   ]
  },
  {
   "cell_type": "code",
   "execution_count": null,
   "metadata": {
    "collapsed": true
   },
   "outputs": [],
   "source": [
    "def say_hello(mystring,my_threshold):\n",
    "    if len(mystring)< my_threshold:\n",
    "        result=\"Hi \"+mystring\n",
    "    elif len(mystring)< my_threshold*2:\n",
    "        result=\"Hello \"+mystring\n",
    "    else:\n",
    "        result=\"Good day \"+mystring\n",
    "    return result"
   ]
  },
  {
   "cell_type": "code",
   "execution_count": null,
   "metadata": {},
   "outputs": [],
   "source": [
    "say_hello(\"Adam\",5)"
   ]
  },
  {
   "cell_type": "code",
   "execution_count": null,
   "metadata": {},
   "outputs": [],
   "source": [
    "say_hello(\"Adam\",10)"
   ]
  },
  {
   "cell_type": "markdown",
   "metadata": {},
   "source": [
    "## Exercises\n",
    "1]  Write a function which takes 2 numbers and returns the midpoint of those numbers.  For example, given the inputs 10 and 20, it should return 15"
   ]
  },
  {
   "cell_type": "code",
   "execution_count": null,
   "metadata": {
    "collapsed": true
   },
   "outputs": [],
   "source": []
  },
  {
   "cell_type": "markdown",
   "metadata": {},
   "source": [
    "2] Write a function which takes a number x, adds 1, squares the result,  and then tests whether that result is a multiple of 7 and prints \"Yes, the answer is a multiple of 7\" or \"No, the answer is not a multiple of 7\""
   ]
  },
  {
   "cell_type": "code",
   "execution_count": null,
   "metadata": {},
   "outputs": [],
   "source": []
  },
  {
   "cell_type": "markdown",
   "metadata": {},
   "source": [
    "3] What happens if the input to your function is a string?  Can you improve it so that it tells the user that the input is invalid."
   ]
  },
  {
   "cell_type": "code",
   "execution_count": null,
   "metadata": {
    "collapsed": true
   },
   "outputs": [],
   "source": []
  },
  {
   "cell_type": "markdown",
   "metadata": {},
   "source": [
    "4] Change your function so that it takes two arguments - one being the number to test and the other being the desired factor.  For example my_function(9,2) should print a positive result because 9+1 equals 10, 10 squared equals 100 and 100 is a multiple of 2."
   ]
  }
 ],
 "metadata": {
  "kernelspec": {
   "display_name": "Python 3",
   "language": "python",
   "name": "python3"
  },
  "language_info": {
   "codemirror_mode": {
    "name": "ipython",
    "version": 3
   },
   "file_extension": ".py",
   "mimetype": "text/x-python",
   "name": "python",
   "nbconvert_exporter": "python",
   "pygments_lexer": "ipython3",
   "version": "3.7.4"
  }
 },
 "nbformat": 4,
 "nbformat_minor": 2
}
