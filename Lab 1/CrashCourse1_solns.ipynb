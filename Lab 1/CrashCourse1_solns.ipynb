{
 "cells": [
  {
   "cell_type": "markdown",
   "metadata": {},
   "source": [
    "1"
   ]
  },
  {
   "cell_type": "code",
   "execution_count": 1,
   "metadata": {},
   "outputs": [],
   "source": [
    "def midpoint(a,b):\n",
    "    c=(a+b)/2\n",
    "    return c"
   ]
  },
  {
   "cell_type": "code",
   "execution_count": 3,
   "metadata": {},
   "outputs": [
    {
     "data": {
      "text/plain": [
       "20.0"
      ]
     },
     "execution_count": 3,
     "metadata": {},
     "output_type": "execute_result"
    }
   ],
   "source": [
    "midpoint(15,25)"
   ]
  },
  {
   "cell_type": "markdown",
   "metadata": {},
   "source": [
    "2, 3"
   ]
  },
  {
   "cell_type": "code",
   "execution_count": 14,
   "metadata": {},
   "outputs": [],
   "source": [
    "def multcheck(x):\n",
    "    if isinstance(x,int):\n",
    "        y=(x+1)**2\n",
    "        if y%7==0:\n",
    "            print('Yes, the answer is a multiple of 7')\n",
    "        else:\n",
    "            print('No, the answer is not a multiple of 7')\n",
    "    else:\n",
    "        print('Invalid input')"
   ]
  },
  {
   "cell_type": "markdown",
   "metadata": {},
   "source": [
    "4"
   ]
  },
  {
   "cell_type": "code",
   "execution_count": 24,
   "metadata": {},
   "outputs": [],
   "source": [
    "def multcheck(a,b):\n",
    "    if isinstance(a,int) and isinstance(b,int):\n",
    "        y=(a+1)**2\n",
    "        if y%b==0:\n",
    "            print('Yes (',a,'+ 1 ) squared is a multiple of',b)\n",
    "        else:\n",
    "            print('No (',a,'+ 1 ) squared is not a multiple of',b)\n",
    "    else:\n",
    "        print('Invalid input')"
   ]
  }
 ],
 "metadata": {
  "kernelspec": {
   "display_name": "Python 3",
   "language": "python",
   "name": "python3"
  },
  "language_info": {
   "codemirror_mode": {
    "name": "ipython",
    "version": 3
   },
   "file_extension": ".py",
   "mimetype": "text/x-python",
   "name": "python",
   "nbconvert_exporter": "python",
   "pygments_lexer": "ipython3",
   "version": "3.7.4"
  }
 },
 "nbformat": 4,
 "nbformat_minor": 2
}
