{
 "cells": [
  {
   "cell_type": "markdown",
   "metadata": {},
   "source": [
    "# ADS Lab 1 - Investigating Data Structures"
   ]
  },
  {
   "cell_type": "code",
   "execution_count": 1,
   "metadata": {},
   "outputs": [
    {
     "name": "stdout",
     "output_type": "stream",
     "text": [
      "91\n"
     ]
    }
   ],
   "source": [
    "import random\n",
    "\n",
    "startno=1\n",
    "endno=100\n",
    "a=random.randint(startno,endno)\n",
    "print(a)"
   ]
  },
  {
   "cell_type": "markdown",
   "metadata": {},
   "source": [
    "**Exercise 1.**"
   ]
  },
  {
   "cell_type": "code",
   "execution_count": 2,
   "metadata": {},
   "outputs": [],
   "source": [
    "def make_rand_list1(n):\n",
    "    result=[]\n",
    "    while n >0:\n",
    "        result.append(random.randint(1,100))\n",
    "        n-=1\n",
    "    return result"
   ]
  },
  {
   "cell_type": "code",
   "execution_count": 3,
   "metadata": {},
   "outputs": [
    {
     "data": {
      "text/plain": [
       "[49, 30, 32, 94, 16]"
      ]
     },
     "execution_count": 3,
     "metadata": {},
     "output_type": "execute_result"
    }
   ],
   "source": [
    "make_rand_list1(5)"
   ]
  },
  {
   "cell_type": "markdown",
   "metadata": {},
   "source": [
    "**Exercise 2.**"
   ]
  },
  {
   "cell_type": "code",
   "execution_count": 4,
   "metadata": {},
   "outputs": [],
   "source": [
    "def make_rand_list1(n,startno=1,endno=100):\n",
    "    result=[]\n",
    "    while n >0:\n",
    "        result.append(random.randint(startno,endno))\n",
    "        n-=1\n",
    "    return result"
   ]
  },
  {
   "cell_type": "code",
   "execution_count": 5,
   "metadata": {},
   "outputs": [
    {
     "data": {
      "text/plain": [
       "[4, 5, 3, 3, 4]"
      ]
     },
     "execution_count": 5,
     "metadata": {},
     "output_type": "execute_result"
    }
   ],
   "source": [
    "make_rand_list1(5,startno=1,endno=10)"
   ]
  },
  {
   "cell_type": "markdown",
   "metadata": {},
   "source": [
    "**Exercise 3.**"
   ]
  },
  {
   "cell_type": "code",
   "execution_count": 6,
   "metadata": {},
   "outputs": [],
   "source": [
    "def make_rand_list2(n,startno=1,endno=100):\n",
    "    result=[]\n",
    "    while n >0:\n",
    "        result=[random.randint(startno,endno)]+result\n",
    "        n-=1\n",
    "    return result"
   ]
  },
  {
   "cell_type": "code",
   "execution_count": 7,
   "metadata": {},
   "outputs": [],
   "source": [
    "def make_rand_list3(n,startno=1,endno=100):\n",
    "    result=[]\n",
    "    while n >0:\n",
    "        result=result+[random.randint(startno,endno)]\n",
    "        n-=1\n",
    "    return result"
   ]
  },
  {
   "cell_type": "code",
   "execution_count": 8,
   "metadata": {},
   "outputs": [],
   "source": [
    "def make_rand_list4(n,startno=1,endno=100):\n",
    "    return [random.randint(startno,endno) for r in range(n)]"
   ]
  },
  {
   "cell_type": "markdown",
   "metadata": {},
   "source": [
    "**Timing code**"
   ]
  },
  {
   "cell_type": "code",
   "execution_count": 9,
   "metadata": {},
   "outputs": [
    {
     "name": "stdout",
     "output_type": "stream",
     "text": [
      "Time taken was 0.07388710975646973s\n"
     ]
    }
   ],
   "source": [
    "import time\n",
    "starttime=time.time()\n",
    "\n",
    "x=0\n",
    "for i in range(10000):\n",
    "    x+=2**i\n",
    "\n",
    "endtime=time.time() #stop the stopwatch\n",
    "timetaken=endtime-starttime\n",
    "print(\"Time taken was {}s\".format(timetaken))"
   ]
  },
  {
   "cell_type": "code",
   "execution_count": 10,
   "metadata": {},
   "outputs": [],
   "source": [
    "\n",
    "import numpy as np\n",
    "\n",
    "def myfunc(a,b):\n",
    "    x=0\n",
    "    for i in range(100000):\n",
    "        x+=a*i/b*(i+1) \n",
    "    \n",
    "    return x\n",
    "\n",
    "def myfunc2(numerator=10,denominator=2):\n",
    "    '''\n",
    "    If no values are supplied at run-time then numerator will be 10 and denominator will be 2\n",
    "    '''\n",
    "    \n",
    "    x=0\n",
    "    for i in range(100000):\n",
    "        x+=numerator*i/denominator*(i+1) \n",
    "    \n",
    "    return x\n",
    "\n",
    "def timeit(somefunc,*args,repeats=100,**kwargs):\n",
    "    times=[]\n",
    "    for i in range(repeats):\n",
    "        starttime=time.time()\n",
    "        ans=somefunc(*args,**kwargs)\n",
    "        endtime=time.time()\n",
    "        timetaken=endtime-starttime\n",
    "        times.append(timetaken)\n",
    "    \n",
    "    mean=np.mean(times)\n",
    "    stdev=np.std(times)\n",
    " \n",
    "    return (mean,stdev)"
   ]
  },
  {
   "cell_type": "code",
   "execution_count": 11,
   "metadata": {},
   "outputs": [
    {
     "data": {
      "text/plain": [
       "(0.011994314193725587, 0.0004906784200479567)"
      ]
     },
     "execution_count": 11,
     "metadata": {},
     "output_type": "execute_result"
    }
   ],
   "source": [
    "timeit(myfunc2,2,100,repeats=10)"
   ]
  },
  {
   "cell_type": "code",
   "execution_count": 12,
   "metadata": {},
   "outputs": [
    {
     "data": {
      "text/plain": [
       "(0.0001219320297241211, 4.956031474115769e-05)"
      ]
     },
     "execution_count": 12,
     "metadata": {},
     "output_type": "execute_result"
    }
   ],
   "source": [
    "timeit(make_rand_list1,100)"
   ]
  },
  {
   "cell_type": "markdown",
   "metadata": {},
   "source": [
    "**Exercise 4.**"
   ]
  },
  {
   "cell_type": "code",
   "execution_count": 13,
   "metadata": {},
   "outputs": [],
   "source": [
    "xs=[]\n",
    "ys=[]\n",
    "\n",
    "for i in range(0,1000,10):\n",
    "    (y,z)=timeit(make_rand_list1,i,repeats=100)\n",
    "    xs.append(i)\n",
    "    ys.append(y)\n"
   ]
  },
  {
   "cell_type": "code",
   "execution_count": 14,
   "metadata": {},
   "outputs": [],
   "source": [
    "import matplotlib.pyplot as plt"
   ]
  },
  {
   "cell_type": "code",
   "execution_count": 15,
   "metadata": {},
   "outputs": [
    {
     "data": {
      "text/plain": [
       "Text(0.5, 1.0, 'Average length of time to generate lists of different lengths')"
      ]
     },
     "execution_count": 15,
     "metadata": {},
     "output_type": "execute_result"
    },
    {
     "data": {
      "image/png": "[encoded data removed]",
      "text/plain": [
       "<Figure size 432x288 with 1 Axes>"
      ]
     },
     "metadata": {
      "needs_background": "light"
     },
     "output_type": "display_data"
    }
   ],
   "source": [
    "plt.scatter(xs,ys,label='make_rand_list1')\n",
    "plt.ylim(0,0.003)  #you will need to play around with the upper limit depending on your computer\n",
    "plt.legend(loc='upper left')\n",
    "plt.xlabel('Length of list')\n",
    "plt.ylabel('Time (s)')\n",
    "plt.title('Average length of time to generate lists of different lengths')"
   ]
  },
  {
   "cell_type": "markdown",
   "metadata": {},
   "source": [
    "**Exercise 5.**"
   ]
  },
  {
   "cell_type": "code",
   "execution_count": 16,
   "metadata": {},
   "outputs": [],
   "source": [
    "x2s=[]\n",
    "y2s=[]\n",
    "\n",
    "for i in range(0,1000,10):\n",
    "    (y,z)=timeit(make_rand_list2,i,repeats=100)\n",
    "    x2s.append(i)\n",
    "    y2s.append(y)\n"
   ]
  },
  {
   "cell_type": "code",
   "execution_count": 17,
   "metadata": {},
   "outputs": [
    {
     "data": {
      "image/png": "[encoded data removed]",
      "text/plain": [
       "<Figure size 432x288 with 1 Axes>"
      ]
     },
     "metadata": {
      "needs_background": "light"
     },
     "output_type": "display_data"
    }
   ],
   "source": [
    "#fig=plt.figure()\n",
    "#ax1=fig.add_subplot('111')\n",
    "plt.scatter(xs,ys,label='append')\n",
    "plt.scatter(xs,y2s,label='concatenate')\n",
    "plt.ylim(0,0.002)\n",
    "plt.legend(loc='upper left')\n",
    "plt.xlabel('Length of list')\n",
    "plt.ylabel('Time (s)')\n",
    "plt.title('Average length of time to generate lists of different lengths')\n",
    "\n",
    "plt.show()"
   ]
  },
  {
   "cell_type": "code",
   "execution_count": 18,
   "metadata": {},
   "outputs": [],
   "source": [
    "x3s=[]\n",
    "y3s=[]\n",
    "\n",
    "for i in range(0,1000,10):\n",
    "    (y,z)=timeit(make_rand_list3,i,repeats=100)\n",
    "    x3s.append(i)\n",
    "    y3s.append(y)\n",
    "  "
   ]
  },
  {
   "cell_type": "code",
   "execution_count": 19,
   "metadata": {},
   "outputs": [],
   "source": [
    "x4s=[]\n",
    "y4s=[]\n",
    "\n",
    "for i in range(0,1000,10):\n",
    "    (y,z)=timeit(make_rand_list4,i,repeats=100)\n",
    "    x4s.append(i)\n",
    "    y4s.append(y)\n"
   ]
  },
  {
   "cell_type": "code",
   "execution_count": 20,
   "metadata": {},
   "outputs": [
    {
     "data": {
      "image/png": "[encoded data removed]",
      "text/plain": [
       "<Figure size 432x288 with 1 Axes>"
      ]
     },
     "metadata": {
      "needs_background": "light"
     },
     "output_type": "display_data"
    }
   ],
   "source": [
    "plt.scatter(xs,ys,label='append',s=10)\n",
    "plt.scatter(xs,y2s,label='pre-concatenate',s=10)\n",
    "plt.scatter(xs,y3s,label='post-concatenate',s=10)\n",
    "plt.scatter(xs,y4s,label='comprehension',s=10)\n",
    "plt.ylim(0,0.002)\n",
    "plt.legend(loc='upper left')\n",
    "plt.xlabel('Length of list')\n",
    "plt.ylabel('Time (s)')\n",
    "plt.show()"
   ]
  },
  {
   "cell_type": "code",
   "execution_count": null,
   "metadata": {},
   "outputs": [],
   "source": []
  }
 ],
 "metadata": {
  "kernelspec": {
   "display_name": "Python 3",
   "language": "python",
   "name": "python3"
  },
  "language_info": {
   "codemirror_mode": {
    "name": "ipython",
    "version": 3
   },
   "file_extension": ".py",
   "mimetype": "text/x-python",
   "name": "python",
   "nbconvert_exporter": "python",
   "pygments_lexer": "ipython3",
   "version": "3.7.4"
  }
 },
 "nbformat": 4,
 "nbformat_minor": 2
}
