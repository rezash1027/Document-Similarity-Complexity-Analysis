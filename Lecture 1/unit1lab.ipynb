{
 "cells": [
  {
   "cell_type": "markdown",
   "metadata": {},
   "source": [
    "# ADS Lab 1 - Investigating Data Structures\n",
    "\n",
    "In the lecture we talked about the Python list data structure as well as dictionaries, hash tables and binary search trees.  Here we will be looking at simple operations on (long) lists and investigating how algorithmic choices impact run time.\n",
    "\n",
    "In order to do this we will be creating and processing lists of random numbers.  We can easily generate random numbers in Python using the *random* library."
   ]
  },
  {
   "cell_type": "code",
   "execution_count": null,
   "metadata": {
    "pycharm": {
     "is_executing": true
    }
   },
   "outputs": [],
   "source": [
    "import random\n",
    "\n",
    "startno=1\n",
    "endno=100\n",
    "\n",
    "#random.randint(a,b) returns a (pseudo-)random integer between a and b inclusive\n",
    "a=random.randint(startno,endno)\n",
    "print(a)"
   ]
  },
  {
   "cell_type": "markdown",
   "metadata": {},
   "source": [
    "### Exercise 1.\n",
    "Remember, if you have list *list1* you can add another *item* to the end by calling *list1.append(item)*\n",
    "\n",
    "Write a function *make_rand_list1(n)* which returns a list of *n* random integers (between 1 and 100).  This function should use the **append** method for lists as described above."
   ]
  },
  {
   "cell_type": "code",
   "execution_count": null,
   "metadata": {
    "collapsed": true
   },
   "outputs": [],
   "source": []
  },
  {
   "cell_type": "markdown",
   "metadata": {},
   "source": [
    "## Keyword Arguments to Functions\n",
    "There are 2 ways of supplying arguments to functions in Python - by position and by name."
   ]
  },
  {
   "cell_type": "code",
   "execution_count": null,
   "metadata": {},
   "outputs": [],
   "source": [
    "def myfunc(a,b):\n",
    "    '''\n",
    "    myfunc() has 2 positional arguments.  \n",
    "    They have to be supplied each time the function is called.\n",
    "    They have to be supplied in the correct order\n",
    "    '''\n",
    "    \n",
    "    x=0\n",
    "    for i in range(100000):\n",
    "        x+=a*i/b*(i+1) \n",
    "    \n",
    "    return x\n"
   ]
  },
  {
   "cell_type": "code",
   "execution_count": null,
   "metadata": {},
   "outputs": [],
   "source": [
    "myfunc(2,10)"
   ]
  },
  {
   "cell_type": "code",
   "execution_count": null,
   "metadata": {},
   "outputs": [],
   "source": [
    "myfunc(10,2)"
   ]
  },
  {
   "cell_type": "code",
   "execution_count": null,
   "metadata": {},
   "outputs": [],
   "source": [
    "myfunc(20)"
   ]
  },
  {
   "cell_type": "markdown",
   "metadata": {},
   "source": [
    "However, sometimes we want to make arguments optional or supply default values.  We can do this using named or keyword arguments"
   ]
  },
  {
   "cell_type": "code",
   "execution_count": null,
   "metadata": {},
   "outputs": [],
   "source": [
    "def myfunc2(numerator=10,denominator=2):\n",
    "    '''\n",
    "    If no values are supplied at run-time then numerator will be 10 and denominator will be 2\n",
    "    '''\n",
    "    \n",
    "    x=0\n",
    "    for i in range(100000):\n",
    "        x+=numerator*i/denominator*(i+1) \n",
    "    \n",
    "    return x"
   ]
  },
  {
   "cell_type": "code",
   "execution_count": null,
   "metadata": {},
   "outputs": [],
   "source": [
    "myfunc2()"
   ]
  },
  {
   "cell_type": "code",
   "execution_count": null,
   "metadata": {},
   "outputs": [],
   "source": [
    "myfunc2(denominator=10,numerator=2) #we can give named arguments in any order provided we use the names"
   ]
  },
  {
   "cell_type": "code",
   "execution_count": null,
   "metadata": {},
   "outputs": [],
   "source": [
    "myfunc2(30,2) #no names given so default ordering is assumed"
   ]
  },
  {
   "cell_type": "code",
   "execution_count": null,
   "metadata": {},
   "outputs": [],
   "source": [
    "myfunc2(30)"
   ]
  },
  {
   "cell_type": "markdown",
   "metadata": {},
   "source": [
    "### Exercise 2\n",
    "Modify your code in exercise 1 so that it takes two optional keyword arguments that define the start and end of the range which the random numbers are selected from."
   ]
  },
  {
   "cell_type": "code",
   "execution_count": null,
   "metadata": {},
   "outputs": [],
   "source": []
  },
  {
   "cell_type": "markdown",
   "metadata": {},
   "source": [
    "### Exercise 3\n",
    "You may have thought of ways of creating this list which do not use the append method.  For example, you could\n",
    "* create a list containing a new random number and use list concatenation: [r]+list1\n",
    "* create a list containing a new random number and use list concatenation: list1 + [r]\n",
    "* use a list comprehension together with the *range()* function\n",
    "\n",
    "Can you create Python functions for each of these algorithms (and any others you can think of)?\n",
    "\n",
    "Which of your functions do you think is the best?  Which do you think will run the fastest?"
   ]
  },
  {
   "cell_type": "code",
   "execution_count": null,
   "metadata": {
    "collapsed": true
   },
   "outputs": [],
   "source": []
  },
  {
   "cell_type": "code",
   "execution_count": null,
   "metadata": {
    "collapsed": true
   },
   "outputs": [],
   "source": []
  },
  {
   "cell_type": "code",
   "execution_count": null,
   "metadata": {
    "collapsed": true
   },
   "outputs": [],
   "source": []
  },
  {
   "cell_type": "markdown",
   "metadata": {},
   "source": [
    "## Timing Code\n",
    "We can time how long it takes code to run on the kernel using the *time* library"
   ]
  },
  {
   "cell_type": "code",
   "execution_count": null,
   "metadata": {},
   "outputs": [],
   "source": [
    "import time\n",
    "\n",
    "starttime=time.time() #start the stopwatch\n",
    "'''\n",
    "now put the code you want to time\n",
    "'''\n",
    "x=0\n",
    "for i in range(10000):\n",
    "    x+=2**i\n",
    "'''\n",
    "code being timed completed\n",
    "'''\n",
    "endtime=time.time() #stop the stopwatch\n",
    "timetaken=endtime-starttime\n",
    "print(\"Time taken was {}s\".format(timetaken)) #.format() can be called on a String for nice formatting (alternative to string concatenation)"
   ]
  },
  {
   "cell_type": "markdown",
   "metadata": {},
   "source": [
    "If you repeatedly run the cell above, you will notice that the times vary (a lot).  This is mainly due to the fact that your computer is doing other things at the same time.   Further, results will vary greatly from one machine to another.  However, by performing a large number of repetitions and taking an average, we can get an idea of how fast a snippet of code will run on the current machine.\n",
    "\n",
    "Below, there is code for a timeit() function.  This is a higher level function which takes as its first argument a function *somefunc*. This function may have its own positional arguments (\\*args) and its own keyword arguments (\\*\\*kwargs).  These must be passed to *somefunc* when it is called from within timeit() "
   ]
  },
  {
   "cell_type": "code",
   "execution_count": null,
   "metadata": {},
   "outputs": [],
   "source": [
    "import numpy as np\n",
    "\n",
    "def timeit(somefunc,*args,repeats=100,**kwargs):\n",
    "    times=[]\n",
    "    for i in range(repeats):\n",
    "        starttime=time.time()\n",
    "        ans=somefunc(*args,**kwargs)\n",
    "        endtime=time.time()\n",
    "        timetaken=endtime-starttime\n",
    "        times.append(timetaken)\n",
    "    \n",
    "    mean=np.mean(times)\n",
    "    stdev=np.std(times)\n",
    " \n",
    "    return (mean,stdev)"
   ]
  },
  {
   "cell_type": "code",
   "execution_count": null,
   "metadata": {},
   "outputs": [],
   "source": [
    "timeit(myfunc,2,10)"
   ]
  },
  {
   "cell_type": "markdown",
   "metadata": {},
   "source": [
    "One can use the *timeit* function above to consider how the amount of time taken relates to the (size of the) input \n",
    "\n",
    "### Exercise 4\n",
    "Write some code to time the running of make_rand_list1(n) where n is a multiple of 10 between 0 and 1000.  Store the values of n in a list called *xs* and the mean times (returned by *timeit()*) in a list called *ys*.\n",
    "(If you are on a super-fast computer, you can add one or two 0s above to make it take a bit longer.)"
   ]
  },
  {
   "cell_type": "code",
   "execution_count": null,
   "metadata": {},
   "outputs": [],
   "source": []
  },
  {
   "cell_type": "markdown",
   "metadata": {},
   "source": [
    "## Plotting the Results\n",
    "For a really simple scatterplot of the results, you can use the following code"
   ]
  },
  {
   "cell_type": "code",
   "execution_count": null,
   "metadata": {},
   "outputs": [],
   "source": [
    "import matplotlib.pyplot as plt"
   ]
  },
  {
   "cell_type": "code",
   "execution_count": null,
   "metadata": {},
   "outputs": [],
   "source": [
    "plt.scatter(xs,ys,label='make_rand_list1')\n",
    "plt.ylim(0,0.003)  #you will need to play around with the upper limit depending on your computer\n",
    "plt.legend(loc='upper left')\n",
    "plt.xlabel('Length of list')\n",
    "plt.ylabel('Time (s)')\n",
    "plt.title('Average length of time to generate lists of different lengths')"
   ]
  },
  {
   "cell_type": "markdown",
   "metadata": {},
   "source": [
    "### Exercise 5\n",
    "Can you time all of your different functions for making a list of random integers (for varying values of n) and plot the results on the same graph?  What can you conclude about the different algorithms?"
   ]
  },
  {
   "cell_type": "code",
   "execution_count": null,
   "metadata": {
    "collapsed": true
   },
   "outputs": [],
   "source": []
  },
  {
   "cell_type": "markdown",
   "metadata": {},
   "source": [
    "## Extension\n",
    "\n",
    "- How big are the standard deviations of run-time over repeats? Can you repeat Exercise 5, but this time plotting also the standard errors (the standard error is, roughly, the expected error in the estimate of the mean time taken, and is given by the standard deviation divided by the square root of the number of repeats). You can use *plt.errorbar*. \n",
    "\n",
    "\n",
    "- Does it make a difference if you do all the repeats for one list length one after the other, or if you do all list lengths once, and then all list lengths again, and again, for the given number of repeats?\n",
    "\n",
    "\n",
    "- You can sort any of your lists using the sorted() function.  Investigate how long it takes to find a number in a sorted() list by\n",
    "\n",
    "    1. Checking each item in turn.\n",
    "    2. Using a binary search strategy.  In other words, start in the middle of the list, compare the current item with your target item and move to the left or right accordingly.  Take the middle of that sub-list and so on until the item is found.\n",
    "\n",
    "To make this more realistic, make the range that your random numbers are selected from much larger than your longest lists (in order to reduce the number of repeated items in the lists). "
   ]
  },
  {
   "cell_type": "code",
   "execution_count": null,
   "metadata": {
    "collapsed": true
   },
   "outputs": [],
   "source": []
  }
 ],
 "metadata": {
  "kernelspec": {
   "display_name": "Python 3",
   "language": "python",
   "name": "python3"
  },
  "language_info": {
   "codemirror_mode": {
    "name": "ipython",
    "version": 3
   },
   "file_extension": ".py",
   "mimetype": "text/x-python",
   "name": "python",
   "nbconvert_exporter": "python",
   "pygments_lexer": "ipython3",
   "version": "3.7.4"
  }
 },
 "nbformat": 4,
 "nbformat_minor": 2
}
