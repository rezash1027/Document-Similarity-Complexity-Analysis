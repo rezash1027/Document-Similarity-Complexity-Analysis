{
 "cells": [
  {
   "cell_type": "markdown",
   "metadata": {},
   "source": [
    "# Unit 8 lab : Graph algorithms\n",
    "\n",
    "This week we are looking at graphs / networks and a number of algorithms that can be applied to them.\n",
    "\n",
    "In the example below, mygraph is a dictionary storing an adjacency list representation of a graph.  It might help to draw it on paper.\n"
   ]
  },
  {
   "cell_type": "code",
   "execution_count": null,
   "metadata": {},
   "outputs": [],
   "source": [
    "mygraph={'A':['B','C','G'],'B':['A','D','H'],'C':['A'],'D':['B','E','G'],'E':['D','H'],'F':['H'],'G':['D','H'],'H':['B','E','F']}"
   ]
  },
  {
   "cell_type": "markdown",
   "metadata": {},
   "source": [
    "## Breadth-first search\n",
    "\n",
    "BFS is an implementation of the breadth-first search algorithm introduced in the lecture"
   ]
  },
  {
   "cell_type": "code",
   "execution_count": null,
   "metadata": {},
   "outputs": [],
   "source": [
    "import numpy as np\n",
    "\n",
    "def BFS(graphdict,source):\n",
    "    \n",
    "    #initialisation\n",
    "    colour={}\n",
    "    distance={}\n",
    "    predecessor={}\n",
    "    for v in graphdict.keys():\n",
    "        colour[v]='w'\n",
    "        distance[v]=np.inf\n",
    "        predecessor[v]=None\n",
    "        \n",
    "    colour[source]='g'\n",
    "    distance[source]=0\n",
    "    queue=[source]\n",
    "    \n",
    "    #iteration\n",
    "    while queue != []:\n",
    "        u=queue[0]\n",
    "        for vertex in graphdict[u]:\n",
    "            if colour[vertex]=='w':\n",
    "                colour[vertex]='g'\n",
    "                distance[vertex]=distance[u]+1\n",
    "                predecessor[vertex]=u\n",
    "                queue.append(vertex)\n",
    "        colour[u]='b'\n",
    "        \n",
    "        if len(queue)>1:\n",
    "            queue=queue[1:]\n",
    "        else:\n",
    "            queue=[]\n",
    "            \n",
    "    return (distance,predecessor)\n",
    "        "
   ]
  },
  {
   "cell_type": "markdown",
   "metadata": {},
   "source": [
    "### Exercise 1a\n",
    "Run BFS() with different sources.  \n",
    "1. What is the shortest distance from A to G?\n",
    "2. What is the shortest distance from A to F?\n",
    "3. What is the shortest distance from B to E?\n"
   ]
  },
  {
   "cell_type": "code",
   "execution_count": null,
   "metadata": {
    "collapsed": true
   },
   "outputs": [],
   "source": []
  },
  {
   "cell_type": "markdown",
   "metadata": {},
   "source": [
    "### Exercise 1b\n",
    "Write a function to output any pairs of nodes where the length of the shortest path is greater than n.  Use it to find a list of all pairs where the length of the shortest path is greater than 3."
   ]
  },
  {
   "cell_type": "code",
   "execution_count": null,
   "metadata": {
    "collapsed": true
   },
   "outputs": [],
   "source": []
  },
  {
   "cell_type": "markdown",
   "metadata": {},
   "source": [
    "### Exercise 1c\n",
    "Write a function which takes the second output of the BFS function (i.e., the predecessor dictionary) and writes out the path from the source to a given vertex.  What is the shortest path from A to E?"
   ]
  },
  {
   "cell_type": "code",
   "execution_count": null,
   "metadata": {
    "collapsed": true
   },
   "outputs": [],
   "source": []
  },
  {
   "cell_type": "markdown",
   "metadata": {},
   "source": [
    "## Dijkstra's algorithm\n",
    "\n",
    "Dijkstra's algorithm is used to find the shortest paths from a source vertex in a weighted graph.\n",
    "\n",
    "It makes use of a data structure known as a priority queue which maintains a list of items in order of increasing weight or priority.\n",
    "\n",
    "A priority queue can be initialised with a list of items (where each item is a (name,priority) pair).  This list will be sorted by priority/weight.  It then supports \n",
    "1. the extractmin() operation which removes and returns the item with the lowest weight.\n",
    "2. the insert(item) operation which adds an item to the queue (replacing an existing item with the same name)\n",
    "3. the display() operation which displays the current state of the queue\n",
    "\n"
   ]
  },
  {
   "cell_type": "code",
   "execution_count": null,
   "metadata": {},
   "outputs": [],
   "source": [
    "from operator import itemgetter\n",
    "\n",
    "class queue:\n",
    "    #this is a data structure to implement a simple priority queue\n",
    "    \n",
    "    def __init__(self,alist):\n",
    "        self.items=alist\n",
    "        self.items=sorted(self.items,key=itemgetter(1))  #ensure that the initial list is sorted by the weight\n",
    "        \n",
    "    def extractmin(self):\n",
    "        #remove and return the item with the lowest weight\n",
    "        #as self.items is maintained in order of weight, this is the first item\n",
    "        \n",
    "        if len(self.items)>0:\n",
    "            res=self.items[0]\n",
    "            if len(self.items)>1:\n",
    "                self.items=self.items[1:]\n",
    "            else:\n",
    "                self.items=[]\n",
    "        \n",
    "        else:\n",
    "            res=None\n",
    "        \n",
    "        return res\n",
    "    \n",
    "    def remove(self,delitem):\n",
    "        # remove an item which matches the given item's name (ignoring priority)\n",
    "        delindex=-1\n",
    "        \n",
    "        for i,item in enumerate(self.items):\n",
    "            if item[0]==delitem[0]:\n",
    "                delindex=i\n",
    "        \n",
    "        if delindex>-1:\n",
    "            if delindex<len(self.items)-1:\n",
    "                self.items=self.items[0:delindex]+self.items[delindex+1:]\n",
    "            else:\n",
    "                self.items=self.items[0:delindex]\n",
    "       \n",
    "    def insert(self,newitem):\n",
    "        \n",
    "        #remove the item with the same name \n",
    "        self.remove(newitem) \n",
    "        \n",
    "        #insert the item in the correct place in the priority queue        \n",
    "        index=-1\n",
    "        for i,item in enumerate(self.items):\n",
    "            if item[1] > newitem[1]:\n",
    "                index=i\n",
    "                break\n",
    "        \n",
    "        if index>-1:       \n",
    "            self.items=self.items[0:index]+[newitem]+self.items[index:]\n",
    "        else:\n",
    "            self.items.append(newitem)\n",
    "    \n",
    "    def display(self):\n",
    "        print(self.items)\n",
    "        \n",
    "        \n",
    "### Test this by initialising a queue with some items and then using the different methods  \n",
    "\n"
   ]
  },
  {
   "cell_type": "code",
   "execution_count": null,
   "metadata": {},
   "outputs": [],
   "source": []
  },
  {
   "cell_type": "markdown",
   "metadata": {},
   "source": [
    "### Exercise 2a (Optional)\n",
    "What is the time complexity of queue.extractmin()?\n",
    "What is the time complexity of queue.insert()?  Give your answers in big O notation.\n",
    "(Note this is a very naive implementation of a priority queue.  It is possible to do much better if self.items is stored in a data structure called a heap)"
   ]
  },
  {
   "cell_type": "markdown",
   "metadata": {},
   "source": []
  },
  {
   "cell_type": "markdown",
   "metadata": {},
   "source": [
    "Dijkstra's algorithm is then much like BFS.  However, rather than adding vertices to the queue in the order they are discovered, it adds them with a priority according to their current distance from the source.\n",
    "\n",
    "The minimum item in the queue, u, cannot have any further reductions in its distance (since negative weights are not allowed) so at each iteration, the minimum item from the queue, u,  is extracted and the outgoing edges from this vertex are **relaxed** i.e., it is checked whether the distance from the source to each adjacent vertex of u is reduced by going via u - if so the current distance of the distance to the adjacent vertex is updated and the priority queue is also updated."
   ]
  },
  {
   "cell_type": "code",
   "execution_count": null,
   "metadata": {},
   "outputs": [],
   "source": [
    "weightedgraph={'A':[('B',5),('C',2),('G',1)],'B':[('A',5),('D',3),('H',1)],'C':[('A',2)],'D':[('B',3),('E',5),('G',1)],'E':[('D',5),('H',2)],'F':[('H',1)],'G':[('D',1),('H',2)],'H':[('B',1),('E',2),('F',1)]}\n",
    "\n",
    "def dijkstra(graphdict,source):\n",
    "    \n",
    "    #initialisation \n",
    "    #- much like BFS, however we don't need to colour the vertices any more\n",
    "    #- because a vertex can be discovered more than once (it may be a shorter distance on subsequent discovery)\n",
    "    \n",
    "    distance={}\n",
    "    predecessor={}\n",
    "    for v in graphdict.keys():\n",
    "        distance[v]=np.inf\n",
    "        predecessor[v]=None\n",
    "    distance[source]=0\n",
    "    completed=[]\n",
    "    \n",
    "    #initialise a priority queue with the source vertex and its distance from the source (0)\n",
    "    thequeue=queue([(source,0)])\n",
    "    \n",
    "    #this iteration will stop when all vertices added to completed\n",
    "    while len(completed)<len(graphdict.keys()):\n",
    "        \n",
    "        #the item in the queue with the highest priority (lowest distance)\n",
    "        #cannot have its distance reduced any further (assuming no negative weights)\n",
    "        #so extract this and add it to the completed list\n",
    "        (u,_)=thequeue.extractmin() \n",
    "        completed.append(u)\n",
    "        \n",
    "        #consider updating distances for all vertices adjacent to u\n",
    "        #this is known as 'relaxing' the edges out of u\n",
    "        for (v,weight) in graphdict[u]:\n",
    "            if distance[v]> distance[u]+weight:\n",
    "                #if distance to v is less via u then update the distance matrix\n",
    "                #and add v to the priority queue with new distance as priority\n",
    "                distance[v] = distance[u]+weight\n",
    "                predecessor[v] = u\n",
    "                thequeue.insert((v,distance[v]))\n",
    "        \n",
    "        #thequeue.display()\n",
    "                \n",
    "        \n",
    "    return(distance,predecessor,completed)\n",
    "    \n",
    "    \n",
    "dijkstra(weightedgraph,'A')        "
   ]
  },
  {
   "cell_type": "markdown",
   "metadata": {},
   "source": [
    "### Exercise 2b\n",
    "\n",
    "Use your code from earlier (modify if necessary) to output the shortest path from A to E."
   ]
  },
  {
   "cell_type": "code",
   "execution_count": null,
   "metadata": {
    "collapsed": true
   },
   "outputs": [],
   "source": []
  },
  {
   "cell_type": "markdown",
   "metadata": {},
   "source": [
    "### Exercise 2c (optional)\n",
    "Given the naive implementation of the priority queue, what is the time complexity of Dijkstra's algorithm?\n",
    "\n",
    "An alternative implementation of a priority queue uses a binary heap.  In this implementation, the time complexity of extractmin() is O(log n) and the complexity of insert() is O(log n).  How does this change the overall running time of Dijkstra's algoritm?"
   ]
  },
  {
   "cell_type": "markdown",
   "metadata": {
    "collapsed": true
   },
   "source": []
  }
 ],
 "metadata": {
  "kernelspec": {
   "display_name": "Python 3",
   "language": "python",
   "name": "python3"
  },
  "language_info": {
   "codemirror_mode": {
    "name": "ipython",
    "version": 3
   },
   "file_extension": ".py",
   "mimetype": "text/x-python",
   "name": "python",
   "nbconvert_exporter": "python",
   "pygments_lexer": "ipython3",
   "version": "3.7.4"
  }
 },
 "nbformat": 4,
 "nbformat_minor": 1
}
