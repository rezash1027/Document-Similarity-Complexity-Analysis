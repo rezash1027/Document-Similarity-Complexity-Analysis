{
 "cells": [
  {
   "cell_type": "markdown",
   "metadata": {},
   "source": [
    "# Algorithmic Data Science : Lab 2\n",
    "\n",
    "## Investigating the run-time of sorting algorithms\n",
    "\n",
    "\n"
   ]
  },
  {
   "cell_type": "markdown",
   "metadata": {
    "collapsed": true
   },
   "source": [
    "## Partial Solution\n",
    "\n",
    "Lets first implement and test the insertion sort algorithm (see the lecture notes)"
   ]
  },
  {
   "cell_type": "code",
   "execution_count": 1,
   "metadata": {},
   "outputs": [],
   "source": [
    "def insertion_sort(alist):\n",
    "    for index in range(1,len(alist)):\n",
    "        item=alist[index]\n",
    "        sofar=index-1\n",
    "        while sofar>-1 and alist[sofar]>item:\n",
    "            alist[sofar+1]=alist[sofar]\n",
    "            sofar-=1\n",
    "        alist[sofar+1]=item\n",
    "    return alist   "
   ]
  },
  {
   "cell_type": "code",
   "execution_count": 2,
   "metadata": {},
   "outputs": [
    {
     "data": {
      "text/plain": [
       "[2, 3, 5, 6, 8, 11]"
      ]
     },
     "execution_count": 2,
     "metadata": {},
     "output_type": "execute_result"
    }
   ],
   "source": [
    "insertion_sort([5,6,2,8,11,3])"
   ]
  },
  {
   "cell_type": "markdown",
   "metadata": {},
   "source": [
    "Now we want to investigate the worst-case running time of this algorithm for different lengths of lists.\n",
    "\n",
    "This means, for each value of n, we need to make a random list, sort it in reverse order (to make it the worst case) and then time sort it into correct order using insertion_sort.  This should be repeated at least 10 times to get a reasonably smooth graph.\n",
    "\n",
    "First lets grab the makerandlist() and timeit() functions from lab 2 and test it still works"
   ]
  },
  {
   "cell_type": "code",
   "execution_count": 3,
   "metadata": {},
   "outputs": [
    {
     "data": {
      "text/plain": [
       "[11, 89, 61, 60, 40, 53, 6, 12, 83, 45]"
      ]
     },
     "execution_count": 3,
     "metadata": {},
     "output_type": "execute_result"
    }
   ],
   "source": [
    "import random\n",
    "\n",
    "def makerandlist(n,startno=1,endno=100):\n",
    "    result=[]\n",
    "    while n >0:\n",
    "        result.append(random.randint(startno,endno))\n",
    "        n-=1\n",
    "    return result\n",
    "\n",
    "makerandlist(10)"
   ]
  },
  {
   "cell_type": "code",
   "execution_count": 4,
   "metadata": {},
   "outputs": [],
   "source": [
    "import numpy as np\n",
    "import time\n",
    "\n",
    "def timeit(somefunc,*args,repeats=10,**kwargs):\n",
    "    times=[]\n",
    "  \n",
    "    while repeats>0:\n",
    "        starttime=time.time()\n",
    "        ans=somefunc(*args,**kwargs)\n",
    "        endtime=time.time()\n",
    "        timetaken=endtime-starttime\n",
    "        times.append(timetaken)\n",
    "        repeats-=1\n",
    "    \n",
    "    mean=np.mean(times)\n",
    "    stdev=np.std(times)\n",
    " \n",
    "    return (mean,stdev)"
   ]
  },
  {
   "cell_type": "markdown",
   "metadata": {},
   "source": [
    "Now lets set up the iteration over the different values of n. We'll obtain the worst-case scenario by running the Python in-built *sorted* function to put the list in perfect *descending* order before running insertion-sort."
   ]
  },
  {
   "cell_type": "code",
   "execution_count": 5,
   "metadata": {},
   "outputs": [],
   "source": [
    "xs=[]\n",
    "ys=[]\n",
    "\n",
    "for n in range(10,1000,10):\n",
    "    xs.append(n)\n",
    "    alist=sorted(makerandlist(n),reverse=True)  \n",
    "    (mean,stdev)=timeit(insertion_sort,alist,repeats=20)\n",
    "    ys.append(mean)\n",
    "    "
   ]
  },
  {
   "cell_type": "markdown",
   "metadata": {},
   "source": [
    "Now lets plot the results"
   ]
  },
  {
   "cell_type": "code",
   "execution_count": 6,
   "metadata": {},
   "outputs": [
    {
     "data": {
      "image/png": "[encoded data removed]",
      "text/plain": [
       "<Figure size 432x288 with 1 Axes>"
      ]
     },
     "metadata": {
      "needs_background": "light"
     },
     "output_type": "display_data"
    }
   ],
   "source": [
    "import matplotlib.pyplot as plt\n",
    "%matplotlib inline\n",
    "plt.scatter(xs,ys)\n",
    "plt.ylim(0,0.005)\n",
    "plt.xlabel(\"Length of List\")\n",
    "plt.ylabel(\"Average time to sort\")\n",
    "plt.title(\"Worst Case Running Time of Insertion Sort\")\n",
    "plt.show()"
   ]
  },
  {
   "cell_type": "markdown",
   "metadata": {},
   "source": [
    "Is this quadratic?  We need some Maths\n",
    "If $y=c_a.x^\\alpha$ then it follows that:\n",
    "$$\\log(y) = \\log(c_a) + \\alpha \\log(x)$$\n",
    "so if we plot a graph of $\\log(y)$ against $\\log(x)$ the gradient will be $\\alpha$ and the y intercept will be $\\log(c_a)$"
   ]
  },
  {
   "cell_type": "code",
   "execution_count": 7,
   "metadata": {},
   "outputs": [
    {
     "data": {
      "image/png": "[encoded data removed]",
      "text/plain": [
       "<Figure size 432x288 with 1 Axes>"
      ]
     },
     "metadata": {
      "needs_background": "light"
     },
     "output_type": "display_data"
    }
   ],
   "source": [
    "logxs=[np.log10(x) for x in xs]\n",
    "logys=[np.log10(y) for y in ys]\n",
    "\n",
    "plt.scatter(logxs,logys)\n",
    "plt.ylim(-6,-3)\n",
    "plt.xlabel(\"Log of Length of List\")\n",
    "plt.ylabel(\"Log of Average time to sort\")\n",
    "plt.title(\"Worst Case Running Time of Insertion Sort\")\n",
    "plt.show()"
   ]
  },
  {
   "cell_type": "markdown",
   "metadata": {},
   "source": [
    "Inspecting the graph we can see that this is fairly straight and the gradient is approximately 1.5 to 2.  The y intercept is about -6 so $c_a \\approx 10^{-6} = 0.000001$.\n",
    "\n",
    "To get more accurate values we can use the linear regression functions in scipy"
   ]
  },
  {
   "cell_type": "code",
   "execution_count": 8,
   "metadata": {},
   "outputs": [
    {
     "name": "stdout",
     "output_type": "stream",
     "text": [
      "Slope is 1.639099234543643 and intercept is -7.516372535112314\n"
     ]
    }
   ],
   "source": [
    "import scipy.stats as stats\n",
    "\n",
    "res = stats.linregress(logxs, logys)\n",
    "print(\"Slope is {} and intercept is {}\".format(res.slope,res.intercept))"
   ]
  },
  {
   "cell_type": "markdown",
   "metadata": {},
   "source": [
    "This shows that, empirically we have $O(n^{1.6})$ which is slightly better than $O(n^2)$.  Why?   In the algorithm there are some instructions which are only carried out O(n) times (outside the inner loop).  This will make the power appear lower than it really is unless n is asymptotically large."
   ]
  },
  {
   "cell_type": "markdown",
   "metadata": {},
   "source": [
    "Let's do some bigger values of $n$"
   ]
  },
  {
   "cell_type": "code",
   "execution_count": 9,
   "metadata": {},
   "outputs": [
    {
     "data": {
      "image/png": "[encoded data removed]",
      "text/plain": [
       "<Figure size 432x288 with 1 Axes>"
      ]
     },
     "metadata": {
      "needs_background": "light"
     },
     "output_type": "display_data"
    },
    {
     "name": "stdout",
     "output_type": "stream",
     "text": [
      "Slope is 1.9757184198693132 and intercept is -8.43461938783946\n"
     ]
    }
   ],
   "source": [
    "xs=[]\n",
    "ys=[]\n",
    "\n",
    "for n in range(500,2000,20):\n",
    "    xs.append(n)\n",
    "    alist=sorted(makerandlist(n),reverse=True)\n",
    "    (mean,stdev)=timeit(insertion_sort,alist,repeats=20)\n",
    "    ys.append(mean)\n",
    "    \n",
    "logxs=[np.log10(x) for x in xs]\n",
    "logys=[np.log10(y) for y in ys]\n",
    "\n",
    "plt.scatter(logxs,logys)\n",
    "#plt.ylim(-6,0)\n",
    "plt.xlabel(\"Log of Length of List\")\n",
    "plt.ylabel(\"Log of Average time to sort\")\n",
    "plt.title(\"Worst Case Running Time of Insertion Sort\")\n",
    "plt.show()\n",
    "\n",
    "res = stats.linregress(logxs, logys)\n",
    "print(\"Slope is {} and intercept is {}\".format(res.slope,res.intercept))"
   ]
  },
  {
   "cell_type": "markdown",
   "metadata": {},
   "source": [
    "We can see that the slope now is much closer to 2.  The constant is $10^{-9}$"
   ]
  },
  {
   "cell_type": "markdown",
   "metadata": {},
   "source": [
    "As a sanity check, we can also look at the best case and the average case"
   ]
  },
  {
   "cell_type": "code",
   "execution_count": 10,
   "metadata": {},
   "outputs": [
    {
     "data": {
      "image/png": "[encoded data removed]",
      "text/plain": [
       "<Figure size 432x288 with 1 Axes>"
      ]
     },
     "metadata": {
      "needs_background": "light"
     },
     "output_type": "display_data"
    },
    {
     "name": "stdout",
     "output_type": "stream",
     "text": [
      "Slope is 0.8427084932794812 and intercept is -6.39545187492044\n"
     ]
    }
   ],
   "source": [
    "xs=[]\n",
    "ys=[]\n",
    "\n",
    "for n in range(10,1000,10):\n",
    "    xs.append(n)\n",
    "    alist=sorted(makerandlist(n),reverse=False)\n",
    "    (mean,stdev)=timeit(insertion_sort,alist,repeats=20)\n",
    "    ys.append(mean)\n",
    "    \n",
    "logxs=[np.log10(x) for x in xs]\n",
    "logys=[np.log10(y) for y in ys]\n",
    "\n",
    "plt.scatter(logxs,logys)\n",
    "plt.ylim(-6,-3)\n",
    "plt.xlabel(\"Log of Length of List\")\n",
    "plt.ylabel(\"Log of Average time to sort\")\n",
    "plt.title(\"Best Case Running Time of Insertion Sort\")\n",
    "plt.show()\n",
    "\n",
    "res = stats.linregress(logxs, logys)\n",
    "print(\"Slope is {} and intercept is {}\".format(res.slope,res.intercept))"
   ]
  },
  {
   "cell_type": "code",
   "execution_count": 11,
   "metadata": {},
   "outputs": [
    {
     "data": {
      "image/png": "[encoded data removed]",
      "text/plain": [
       "<Figure size 432x288 with 1 Axes>"
      ]
     },
     "metadata": {
      "needs_background": "light"
     },
     "output_type": "display_data"
    },
    {
     "name": "stdout",
     "output_type": "stream",
     "text": [
      "Slope is 1.497412231466697 and intercept is -7.382873889488357\n"
     ]
    }
   ],
   "source": [
    "xs=[]\n",
    "ys=[]\n",
    "\n",
    "for n in range(10,1000,10):\n",
    "    xs.append(n)\n",
    "    alist=makerandlist(n)\n",
    "    (mean,stdev)=timeit(insertion_sort,alist,repeats=20)\n",
    "    ys.append(mean)\n",
    "    \n",
    "logxs=[np.log10(x) for x in xs]\n",
    "logys=[np.log10(y) for y in ys]\n",
    "\n",
    "plt.scatter(logxs,logys)\n",
    "plt.ylim(-6,-3)\n",
    "plt.xlabel(\"Log of Length of List\")\n",
    "plt.ylabel(\"Log of Average time to sort\")\n",
    "plt.title(\"Average Case Running Time of Insertion Sort\")\n",
    "plt.show()\n",
    "\n",
    "res = stats.linregress(logxs, logys)\n",
    "print(\"Slope is {} and intercept is {}\".format(res.slope,res.intercept))"
   ]
  },
  {
   "cell_type": "markdown",
   "metadata": {},
   "source": [
    "Now for some somewhat subtle statistics! \n",
    "\n",
    "Note that linregress also returns rvalue, pvalue, stderr, and intercept_stderr.  rvalue is (Pearson's product-moment) correlation coefficient.  pvalue is the probability of having a correlation coefficient so big given that the actual slope is zero, and stderr is the standard error of the estimated gradient, and intercept_stderr is the standard error of the estimated intercept. The standard error of the estimated gradient tells you roughly how much this estimate would be expected to vary if you ran the whole experiment a bunch of times- it is the expected standard deviation of the estimate of the gradient, across experiments. \n",
    "\n",
    "stderr and intercept_stderr have been computed using statistical formulae which relate these to the number of data points, the correlation coefficient $r$, the variance in x-coordinates and the variance in y-coordinates.\n",
    "\n",
    "In order to get more accurate values for the slope and intercept we need to get lower values of stderr and intercept_stderr.  In general, we would do this by repeating the function more times for each value of n (so the line should be smoother) and repeating for more and larger values of n (when the relationship should be truest).\n",
    "\n"
   ]
  },
  {
   "cell_type": "code",
   "execution_count": 12,
   "metadata": {},
   "outputs": [
    {
     "name": "stdout",
     "output_type": "stream",
     "text": [
      "7.146065079619693e-84 0.021900752869595533 0.05708334465542067\n"
     ]
    }
   ],
   "source": [
    "print(res.pvalue,res.stderr,res.intercept_stderr)"
   ]
  },
  {
   "cell_type": "code",
   "execution_count": 13,
   "metadata": {},
   "outputs": [
    {
     "data": {
      "image/png": "[encoded data removed]",
      "text/plain": [
       "<Figure size 432x288 with 1 Axes>"
      ]
     },
     "metadata": {
      "needs_background": "light"
     },
     "output_type": "display_data"
    },
    {
     "name": "stdout",
     "output_type": "stream",
     "text": [
      "Slope is 1.023343323952524, intercept is -6.858052905429929 and intercept error is 0.03337779557997482\n"
     ]
    }
   ],
   "source": [
    "xs=[]\n",
    "ys=[]\n",
    "\n",
    "for n in range(10,1000,10):\n",
    "    xs.append(n)\n",
    "    alist=makerandlist(n)\n",
    "    (mean,stdev)=timeit(insertion_sort,alist,repeats=1000)\n",
    "    ys.append(mean)\n",
    "    \n",
    "logxs=[np.log10(x) for x in xs]\n",
    "logys=[np.log10(y) for y in ys]\n",
    "\n",
    "plt.scatter(logxs,logys)\n",
    "plt.xlabel(\"Log of Length of List\")\n",
    "plt.ylabel(\"Log of Average time to sort\")\n",
    "plt.title(\"Average Case Running Time of Insertion Sort\")\n",
    "plt.show()\n",
    "\n",
    "res = stats.linregress(logxs, logys)\n",
    "print(\"Slope is {}, intercept is {} and intercept error is {}\".format(res.slope,res.intercept,res.intercept_stderr))"
   ]
  },
  {
   "cell_type": "code",
   "execution_count": null,
   "metadata": {},
   "outputs": [],
   "source": []
  }
 ],
 "metadata": {
  "kernelspec": {
   "display_name": "Python 3",
   "language": "python",
   "name": "python3"
  },
  "language_info": {
   "codemirror_mode": {
    "name": "ipython",
    "version": 3
   },
   "file_extension": ".py",
   "mimetype": "text/x-python",
   "name": "python",
   "nbconvert_exporter": "python",
   "pygments_lexer": "ipython3",
   "version": "3.7.4"
  }
 },
 "nbformat": 4,
 "nbformat_minor": 1
}
