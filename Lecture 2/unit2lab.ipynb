{
 "cells": [
  {
   "cell_type": "markdown",
   "metadata": {},
   "source": [
    "# Algorithmic Data Science : Lab 2\n",
    "\n",
    "## Investigating the run-time of sorting algorithms\n",
    "\n",
    "We have claimed that the run-time of the insertion_sort algorithm is given by:\n",
    "\n",
    "$$c_a n^2$$\n",
    "\n",
    "for a fixed constant $c_a$ when the length $n$ of the list is large. This is an empirical claim, i.e., something which can be verified.  \n",
    "\n",
    "1) Obtain code for the algorithm (from the lecture notes) and plot the run-time for lists of different lengths (via code from last week's lab). \n",
    "\n",
    "\n"
   ]
  },
  {
   "cell_type": "code",
   "execution_count": null,
   "metadata": {},
   "outputs": [],
   "source": []
  },
  {
   "cell_type": "markdown",
   "metadata": {},
   "source": [
    "2) How can we know we have a quadratic curve $y=c_a x^2$ for insertion_sort and not a curve of $x$ to some other power, $y=c_a x^\\alpha$? For this more general case, taking logs of both sides of the equation gives:\n",
    "$$\\log(y) = \\log(c_a) + \\alpha \\log(x)$$\n",
    "So if we plot the log of the time taken against the log of the length of the list - assuming the function is indeed of the form $y=c_a x^\\alpha$, the log-log plot will give us a straight line, and the gradient of this straight line will be $\\alpha$ and the $y$ intercept will be $\\log(c_a)$.\n",
    "\n",
    "Create this log-log plot."
   ]
  },
  {
   "cell_type": "code",
   "execution_count": null,
   "metadata": {},
   "outputs": [],
   "source": []
  },
  {
   "cell_type": "markdown",
   "metadata": {},
   "source": [
    "3) Can you estimate the constant $c_a$ for your computer? Compare your value of $c_a$ with those of other students. \n",
    "\n",
    "(Tip: First estimate the gradient and intercept of the log-log plot using a function from a stats library, and then use that line fit to derive $c_a$. A good choice is the *linregress* function from the library *scipy.stats*. Import the library. Then see how to run the *linregress* function by Googling *scipy.stats.linregress* and reading the documentation for this function.)\n",
    "\n"
   ]
  },
  {
   "cell_type": "code",
   "execution_count": null,
   "metadata": {},
   "outputs": [],
   "source": []
  },
  {
   "cell_type": "markdown",
   "metadata": {},
   "source": [
    "4) What value do you get for $\\alpha$? If you find $\\alpha$ is not that close to 2, it's because the lists you're considering are not long enough for the time complexity to be behaving the way it does asymptotically for large $n$. See what happens to $\\alpha$ if you do a plot using longer lists. Do you end up eventually with a value close to 2?"
   ]
  },
  {
   "cell_type": "code",
   "execution_count": null,
   "metadata": {},
   "outputs": [],
   "source": []
  },
  {
   "cell_type": "markdown",
   "metadata": {},
   "source": [
    "5) Recall that the official time complexity should be derived using the worst case scenario. Did you think to use lists that lead to the worst case scenario? If you did plots just based on completely random lists, then you were obtaining average scenarios. Can you do the worst case scenario and the best case scenario? How do these and the average scenario differ?"
   ]
  },
  {
   "cell_type": "code",
   "execution_count": null,
   "metadata": {},
   "outputs": [],
   "source": []
  },
  {
   "cell_type": "markdown",
   "metadata": {},
   "source": [
    "6) How accurate can you make your estimate of $c_a$?  What is the standard deviation / error in your measurements? (Tip: The linear regression function you used has the ability to give you the standard error for the estimates of the slope and intercept.)\n",
    "\n"
   ]
  },
  {
   "cell_type": "code",
   "execution_count": null,
   "metadata": {},
   "outputs": [],
   "source": []
  },
  {
   "cell_type": "markdown",
   "metadata": {},
   "source": [
    "7) Repeat your experiments while your computer is heavily loaded (e.g. running some video processing in the background), and compare the results."
   ]
  },
  {
   "cell_type": "code",
   "execution_count": null,
   "metadata": {},
   "outputs": [],
   "source": []
  },
  {
   "cell_type": "markdown",
   "metadata": {},
   "source": [
    "Now repeat the whole exercise for the merge_sort algorithm, which we theoretically expect to run in\n",
    "\n",
    "$$c_bn\\log(n)$$\n",
    "\n",
    "for a fixed constant $c_b$ when the length of the list is large. In this case we cannot (sensibly) log both sides.  However we can use a transformation $x=n \\log n$.  If we plot $y$=time-taken against this $x$ then we should get a straight line graph with gradient $c_b$ and $y$-intercept $\\approx$ 0."
   ]
  },
  {
   "cell_type": "code",
   "execution_count": null,
   "metadata": {},
   "outputs": [],
   "source": []
  }
 ],
 "metadata": {
  "kernelspec": {
   "display_name": "Python 3",
   "language": "python",
   "name": "python3"
  },
  "language_info": {
   "codemirror_mode": {
    "name": "ipython",
    "version": 3
   },
   "file_extension": ".py",
   "mimetype": "text/x-python",
   "name": "python",
   "nbconvert_exporter": "python",
   "pygments_lexer": "ipython3",
   "version": "3.7.4"
  }
 },
 "nbformat": 4,
 "nbformat_minor": 1
}
