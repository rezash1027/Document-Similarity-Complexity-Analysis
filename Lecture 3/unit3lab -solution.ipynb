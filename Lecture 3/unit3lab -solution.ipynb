{
 "cells": [
  {
   "cell_type": "markdown",
   "metadata": {},
   "source": [
    "# Algorithmic Data Science: Lab 3 - Matrices: Partial Solution\n",
    "\n"
   ]
  },
  {
   "cell_type": "code",
   "execution_count": 1,
   "metadata": {},
   "outputs": [],
   "source": [
    "import numpy as np"
   ]
  },
  {
   "cell_type": "markdown",
   "metadata": {},
   "source": [
    "Here is a basic function for implementing the naive method, assuming square matrices are input:"
   ]
  },
  {
   "cell_type": "code",
   "execution_count": 2,
   "metadata": {},
   "outputs": [],
   "source": [
    "def naivemult(A,B):\n",
    "\n",
    "    (m,n) = np.shape(A)\n",
    "        \n",
    "    C = np.zeros([m,m])\n",
    "    \n",
    "    for i in range(m):\n",
    "        for j in range(m):\n",
    "            for k in range(m):\n",
    "                C[i,j] += A[i,k] * B[k,j]\n",
    "        \n",
    "    return C"
   ]
  },
  {
   "cell_type": "markdown",
   "metadata": {},
   "source": [
    "Here is code for implementing Strassen's method:"
   ]
  },
  {
   "cell_type": "code",
   "execution_count": 3,
   "metadata": {},
   "outputs": [],
   "source": [
    "def segment(M):\n",
    "    (mm,nn)=np.shape(M)\n",
    "    n = int(mm/2)\n",
    "    \n",
    "    a=M[:n,:n]\n",
    "    b=M[:n,n:]\n",
    "    c=M[n:,:n]\n",
    "    d=M[n:,n:]\n",
    "    \n",
    "    return (a,b,c,d)\n",
    "\n",
    "\n",
    "def build(a,b,c,d):\n",
    "    \n",
    "    (mm,nn)=np.shape(a)\n",
    "    C=np.zeros([2*mm,2*mm])\n",
    "    \n",
    "    C[:mm,:mm]=a\n",
    "    C[:mm,mm:]=b\n",
    "    C[mm:,:mm]=c\n",
    "    C[mm:,mm:]=d\n",
    "            \n",
    "    return C\n",
    "    \n",
    "\n",
    "def strassen(M1, M2):\n",
    "    \n",
    "    if len(M1) <= 2:\n",
    "        return naivemult(M1,M2)\n",
    "    \n",
    "    (a,b,c,d) = segment(M1)\n",
    "\n",
    "    #note: e g f h NOT e f g h \n",
    "    (e,g,f,h) = segment(M2)\n",
    "\n",
    "    P1 = strassen(a, g-h)\n",
    "    P2 = strassen(a+b, h)\n",
    "    P3 = strassen(c+d,e)\n",
    "    P4 = strassen(d,f-e)\n",
    "    P5 = strassen(a+d,e+h)\n",
    "    P6 = strassen(b-d,f+h)\n",
    "    P7 = strassen(a-c,e+g)\n",
    "    \n",
    "    r = P5+P4-P2+P6\n",
    "    s = P1+P2\n",
    "    t = P3+P4\n",
    "    u = P5-P3-P7+P1\n",
    "    \n",
    "    C = build(r,s,t,u)\n",
    "    \n",
    "    return C"
   ]
  },
  {
   "cell_type": "markdown",
   "metadata": {},
   "source": [
    "Verify that this code gives the same output as the naive method:"
   ]
  },
  {
   "cell_type": "code",
   "execution_count": 4,
   "metadata": {},
   "outputs": [
    {
     "name": "stdout",
     "output_type": "stream",
     "text": [
      "[[ 90. 100. 110. 120.]\n",
      " [202. 228. 254. 280.]\n",
      " [314. 356. 398. 440.]\n",
      " [426. 484. 542. 600.]]\n",
      "[[ 90. 100. 110. 120.]\n",
      " [202. 228. 254. 280.]\n",
      " [314. 356. 398. 440.]\n",
      " [426. 484. 542. 600.]]\n"
     ]
    }
   ],
   "source": [
    "E = np.array([[1,2,3,4],[5,6,7,8],[9,10,11,12],[13,14,15,16]])\n",
    "\n",
    "print(naivemult(E,E))\n",
    "\n",
    "print(strassen(E,E))\n",
    "\n"
   ]
  },
  {
   "cell_type": "markdown",
   "metadata": {},
   "source": [
    "To get Strassen to beat the naive method you need to replace the following lines in the Strassen function:"
   ]
  },
  {
   "cell_type": "code",
   "execution_count": null,
   "metadata": {},
   "outputs": [],
   "source": [
    "if len(M1) <= 2:\n",
    "        return naivemult(M1,M2)"
   ]
  },
  {
   "cell_type": "markdown",
   "metadata": {},
   "source": [
    "with the following:"
   ]
  },
  {
   "cell_type": "code",
   "execution_count": null,
   "metadata": {},
   "outputs": [],
   "source": [
    "if len(M1) <= 45:\n",
    "        return naivemult(M1,M2)"
   ]
  }
 ],
 "metadata": {
  "kernelspec": {
   "display_name": "Python 3",
   "language": "python",
   "name": "python3"
  },
  "language_info": {
   "codemirror_mode": {
    "name": "ipython",
    "version": 3
   },
   "file_extension": ".py",
   "mimetype": "text/x-python",
   "name": "python",
   "nbconvert_exporter": "python",
   "pygments_lexer": "ipython3",
   "version": "3.7.4"
  }
 },
 "nbformat": 4,
 "nbformat_minor": 1
}
