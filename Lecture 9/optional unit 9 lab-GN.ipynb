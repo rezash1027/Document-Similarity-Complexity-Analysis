{
 "cells": [
  {
   "cell_type": "markdown",
   "metadata": {},
   "source": [
    "## Girvan-Newman Algorithm\n",
    "\n",
    "We saw this algorithm in the lecture.  It can be used to identify communities of vertices within a graph.\n"
   ]
  },
  {
   "cell_type": "code",
   "execution_count": null,
   "metadata": {},
   "outputs": [],
   "source": [
    "fbgraph={'A':['B','E','F'],'B':['A','E','F','I'],'C':['G','H'],'D':['G','H','E'],'E':['D','F','A','B','I'],'F':['A','B','E','I'],'G':['C','D','H'],'H':['C','D','G','K'],'I':['E','B','F','J'],'J':['I','K','L'],'K':['H','J','L'],'L':['J','K']}"
   ]
  },
  {
   "cell_type": "markdown",
   "metadata": {},
   "source": [
    "First we modify the BFS algorithm so that we compute alternative shortest paths.  So, the predecessor of a vertex becomes a list.  Whilst we are at it, lets compute the number of shortest paths to a vertex as we go along and store a top-down version of the breadth-first search tree (it will be useful to be able to identify the edges before and after a vertex in the tree)."
   ]
  },
  {
   "cell_type": "code",
   "execution_count": null,
   "metadata": {},
   "outputs": [],
   "source": [
    "import numpy as np\n",
    "\n",
    "def BFS_GN(graphdict,source):\n",
    "    \n",
    "    #initialisation\n",
    "    colour={}\n",
    "    distance={}\n",
    "    predecessor={}  #this will store for each vertex a list of predecessors on shortest paths from the source\n",
    "    topdown={} #this will store for each vertex a list of successors on shortest paths from the source\n",
    "    sp={}  #this will store the number of shortest paths from the source to each vertex\n",
    "    for v in graphdict.keys():\n",
    "        colour[v]='w'\n",
    "        distance[v]=np.inf\n",
    "        predecessor[v]=[]\n",
    "        sp[v]=0\n",
    "        \n",
    "    colour[source]='g'\n",
    "    distance[source]=0\n",
    "    queue=[source]\n",
    "    sp[source]=1\n",
    "    \n",
    "    #iteration\n",
    "    while queue != []:\n",
    "        u=queue[0]\n",
    "        topdown[u]=[]\n",
    "        for vertex in graphdict[u]:\n",
    "            if colour[vertex]=='g' and distance[vertex]==distance[u]+1: #alternative shortest path\n",
    "                topdown[u].append(vertex)\n",
    "                predecessor[vertex].append(u)\n",
    "                sp[vertex]+=sp[u]\n",
    "            if colour[vertex]=='w':\n",
    "                colour[vertex]='g'\n",
    "                distance[vertex]=distance[u]+1\n",
    "                predecessor[vertex]=[u]\n",
    "                sp[vertex]=sp[u]\n",
    "                topdown[u].append(vertex)\n",
    "                queue.append(vertex)\n",
    "        \n",
    "        colour[u]='b'\n",
    "        \n",
    "        if len(queue)>1:\n",
    "            queue=queue[1:]\n",
    "        else:\n",
    "            queue=[]\n",
    "            \n",
    "    return (distance,predecessor,topdown,sp)\n",
    "        \n",
    "BFS_GN(fbgraph,'C')"
   ]
  },
  {
   "cell_type": "markdown",
   "metadata": {},
   "source": [
    "In order to be able to compute the vertex and edge credits, we need to be able to progress back up the tree, processing all nodes at a certain distance from the source.  To help us do this, it is useful to have a reverse-index of the distance dictionary computed by the BFS"
   ]
  },
  {
   "cell_type": "code",
   "execution_count": null,
   "metadata": {},
   "outputs": [],
   "source": [
    "\n",
    "def revvalues(adict):\n",
    "    revdict={}\n",
    "    maxsofar=0\n",
    "    for (key,value) in adict.items():\n",
    "        if value > maxsofar:\n",
    "            maxsofar=value\n",
    "        if value in revdict:\n",
    "            revdict[value].append(key)\n",
    "        else:\n",
    "            revdict[value]=[key]\n",
    "            \n",
    "    return revdict,maxsofar\n",
    "\n",
    "#### test this with some different dictionary inputs\n",
    "\n"
   ]
  },
  {
   "cell_type": "code",
   "execution_count": null,
   "metadata": {
    "collapsed": true
   },
   "outputs": [],
   "source": []
  },
  {
   "cell_type": "markdown",
   "metadata": {},
   "source": [
    "### Exercise 3a\n",
    "Write a function which takes a graph and a given source vertex, calls the modified BFS algorithm, calls revvalues on the distance dictionary and then computes the credit calculations for each vertex and edge.  \n",
    "\n",
    "Hint:\n",
    "I would use a while loop which stops when the current distance of vertices from the source is 0.  Then for each vertex at the current distance, compute its vertex credit and the edge credits of edges to each predecessor in the tree.  Then decrease the current distance by 1.  I would store vertex credits in a dictionary and edge credits in a dictionary of dictionaries."
   ]
  },
  {
   "cell_type": "code",
   "execution_count": null,
   "metadata": {
    "collapsed": true
   },
   "outputs": [],
   "source": []
  },
  {
   "cell_type": "markdown",
   "metadata": {},
   "source": [
    "### Exercise 3b\n",
    "\n",
    "Write a function which takes a graph and runs the Girvan-Newman betweenness calculations with all vertices as source.  Compute and return the total betweenness score for each edge."
   ]
  },
  {
   "cell_type": "code",
   "execution_count": null,
   "metadata": {
    "collapsed": true
   },
   "outputs": [],
   "source": []
  }
 ],
 "metadata": {
  "kernelspec": {
   "display_name": "Python 3",
   "language": "python",
   "name": "python3"
  },
  "language_info": {
   "codemirror_mode": {
    "name": "ipython",
    "version": 3
   },
   "file_extension": ".py",
   "mimetype": "text/x-python",
   "name": "python",
   "nbconvert_exporter": "python",
   "pygments_lexer": "ipython3",
   "version": "3.7.4"
  }
 },
 "nbformat": 4,
 "nbformat_minor": 1
}
